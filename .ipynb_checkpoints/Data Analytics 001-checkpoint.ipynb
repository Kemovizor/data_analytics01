{
 "cells": [
  {
   "cell_type": "code",
   "execution_count": 1,
   "metadata": {},
   "outputs": [],
   "source": [
    "import json\n",
    "import pandas as pd\n",
    "import numpy as np\n",
    "import csv\n",
    "import time"
   ]
  },
  {
   "cell_type": "markdown",
   "metadata": {},
   "source": [
    "# converting business.json to business.csv\n",
    "### importing from json file"
   ]
  },
  {
   "cell_type": "code",
   "execution_count": 3,
   "metadata": {},
   "outputs": [
    {
     "name": "stdout",
     "output_type": "stream",
     "text": [
      "Executing the code ...\n",
      "\n",
      "Successfully appended 192609 dictionaries.\n",
      "Execution time:  3.6180918216705322  seconds.\n"
     ]
    }
   ],
   "source": [
    "start = time.time()\n",
    "print(\"Executing the code ...\\n\")\n",
    "listOfDicts_business = []\n",
    "counter =0\n",
    "with open('/Users/kemalm/Desktop/yelp_dataset/business.json',encoding='utf-8') as f:\n",
    "    for line in f:\n",
    "        listOfDicts_business.append(json.loads(line))\n",
    "        counter+=1\n",
    "print(\"Successfully appended {} dictionaries.\".format(counter))\n",
    "end = time.time()\n",
    "print(\"Execution time: \", end - start, \" seconds.\")"
   ]
  },
  {
   "cell_type": "code",
   "execution_count": 4,
   "metadata": {},
   "outputs": [
    {
     "name": "stdout",
     "output_type": "stream",
     "text": [
      "  192609 /Users/kemalm/Desktop/yelp_dataset/business.json\r\n"
     ]
    }
   ],
   "source": [
    "!wc -l /Users/kemalm/Desktop/yelp_dataset/business.json"
   ]
  },
  {
   "cell_type": "markdown",
   "metadata": {},
   "source": [
    "### naming a list of attributes"
   ]
  },
  {
   "cell_type": "code",
   "execution_count": 2,
   "metadata": {},
   "outputs": [
    {
     "name": "stdout",
     "output_type": "stream",
     "text": [
      "['business_id' 'name' 'address' 'city' 'state' 'postal_code' 'latitude'\n",
      " 'longitude' 'stars' 'review_count' 'is_open' 'attributes' 'categories'\n",
      " 'hours'] <class 'numpy.ndarray'>\n"
     ]
    }
   ],
   "source": [
    "attr_arr = np.array(['business_id', 'name', 'address', 'city', 'state', \n",
    "                     'postal_code', 'latitude', 'longitude', 'stars', \n",
    "                     'review_count', 'is_open', 'attributes', 'categories', 'hours'])\n",
    "print(attr_arr, type(attr_arr))"
   ]
  },
  {
   "cell_type": "markdown",
   "metadata": {},
   "source": [
    "<h3> checking if all json objects, we obtained from <i style=\"color:blue\">business.json </i> file, actually contain all keys, that yelp dataset documentation claims they do </h3> "
   ]
  },
  {
   "cell_type": "code",
   "execution_count": 6,
   "metadata": {},
   "outputs": [
    {
     "name": "stdout",
     "output_type": "stream",
     "text": [
      "192609  number of records\n",
      "\n",
      "Key associated with its frequency: \n",
      " [['business_id' 192609.0]\n",
      " ['name' 192609.0]\n",
      " ['address' 192609.0]\n",
      " ['city' 192609.0]\n",
      " ['state' 192609.0]\n",
      " ['postal_code' 192609.0]\n",
      " ['latitude' 192609.0]\n",
      " ['longitude' 192609.0]\n",
      " ['stars' 192609.0]\n",
      " ['review_count' 192609.0]\n",
      " ['is_open' 192609.0]\n",
      " ['attributes' 192609.0]\n",
      " ['categories' 192609.0]\n",
      " ['hours' 192609.0]]\n"
     ]
    }
   ],
   "source": [
    "df_containsfield= np.zeros((len(listOfDicts_business),len(attr_arr)))\n",
    "\n",
    "for i in range(0,len(listOfDicts_business)):\n",
    "    df_containsfield[i,:] = np.isin(attr_arr, np.array(list(listOfDicts_business[i].keys()))).astype(np.int64)\n",
    "print(df_containsfield.shape[0], \" number of records\\n\")\n",
    "tkeys_counter = np.zeros((attr_arr.shape[0],2), dtype=np.object)\n",
    "tkeys_counter[:,0] = np.array(attr_arr)\n",
    "tkeys_counter[:,1] = df_containsfield.sum(axis=0)\n",
    "print(\"Key associated with its frequency: \\n\", tkeys_counter)"
   ]
  },
  {
   "cell_type": "markdown",
   "metadata": {},
   "source": [
    "<h3> number of null values per column</h3> "
   ]
  },
  {
   "cell_type": "code",
   "execution_count": 7,
   "metadata": {},
   "outputs": [
    {
     "name": "stdout",
     "output_type": "stream",
     "text": [
      "business_id\n",
      "       0\n",
      "name\n",
      "       0\n",
      "address\n",
      "       0\n",
      "city\n",
      "       0\n",
      "state\n",
      "       0\n",
      "postal_code\n",
      "       0\n",
      "latitude\n",
      "       0\n",
      "longitude\n",
      "       0\n",
      "stars\n",
      "       0\n",
      "review_count\n",
      "       0\n",
      "is_open\n",
      "       0\n",
      "attributes\n",
      "   28836\n",
      "categories\n",
      "     482\n",
      "hours\n",
      "   44830\n"
     ]
    }
   ],
   "source": [
    "start = time.time()\n",
    "for a in list(attr_arr):\n",
    "    !echo $a\n",
    "    !grep -e \"\\\"$a\\\":null\" /Users/kemalm/Desktop/yelp_dataset/business.json | wc -l\n",
    "end = time.time()\n",
    "print(\"Execution time: \", end - start, \" seconds.\")"
   ]
  },
  {
   "cell_type": "markdown",
   "metadata": {},
   "source": [
    "<h3> Creating a <i style=\"color:blue\"> business.csv </i> file and writing data to it. </h3> "
   ]
  },
  {
   "cell_type": "code",
   "execution_count": 6,
   "metadata": {},
   "outputs": [],
   "source": [
    "class mydict(dict):\n",
    "        def __str__(self):\n",
    "            return json.dumps(self)"
   ]
  },
  {
   "cell_type": "code",
   "execution_count": 15,
   "metadata": {},
   "outputs": [
    {
     "name": "stdout",
     "output_type": "stream",
     "text": [
      "Executing the code ...\n",
      "\n",
      "Successfully written 192609 rows\n",
      "Execution time:  6.614404201507568  seconds.\n"
     ]
    }
   ],
   "source": [
    "start = time.time()\n",
    "print(\"Executing the code ...\\n\")\n",
    "with open('/Users/kemalm/Desktop/yelp_dataset/business.csv','w',encoding='utf-8') as csv_file:\n",
    "    writer = csv.DictWriter(csv_file,list(attr_arr), delimiter='\\t' )\n",
    "    writer.writeheader()\n",
    "    counter=0\n",
    "    for dictObj in listOfDicts_business:\n",
    "        tempDict=dict(dictObj)    \n",
    "        if tempDict.get('attributes') is not None:\n",
    "            tempDict['attributes'] = mydict(tempDict['attributes']).__str__()\n",
    "        else:\n",
    "            tempDict['attributes']=\"{}\"\n",
    "            \n",
    "        if tempDict.get('hours') is not None:\n",
    "            tempDict['hours'] = mydict(tempDict['hours']).__str__()\n",
    "        else:\n",
    "            tempDict['hours']=\"{}\"\n",
    "        writer.writerow(tempDict)\n",
    "        counter+=1\n",
    "print(\"Successfully written {} rows\".format(counter))\n",
    "end = time.time()\n",
    "print(\"Execution time: \", end - start, \" seconds.\")"
   ]
  },
  {
   "cell_type": "markdown",
   "metadata": {},
   "source": [
    "# converting user.json to user.csv\n",
    "### importing from json file"
   ]
  },
  {
   "cell_type": "code",
   "execution_count": 3,
   "metadata": {},
   "outputs": [
    {
     "name": "stdout",
     "output_type": "stream",
     "text": [
      "Executing the code ...\n",
      "\n",
      "Successfully appended 1637138 rows\n",
      "Execution time:  42.027015209198  seconds.\n"
     ]
    }
   ],
   "source": [
    "start = time.time()\n",
    "print(\"Executing the code ...\\n\")\n",
    "listOfDicts_user = []\n",
    "with open('/Users/kemalm/Desktop/yelp_dataset/user.json',encoding='utf-8') as f:\n",
    "    counter=0\n",
    "    for line in f:\n",
    "        listOfDicts_user.append(json.loads(line))\n",
    "        counter+=1\n",
    "endend  = time.time()\n",
    "print(\"Successfully appended {} rows\".format(counter))\n",
    "print(\"Execution time: \", end - start, \" seconds.\")"
   ]
  },
  {
   "cell_type": "code",
   "execution_count": 5,
   "metadata": {},
   "outputs": [
    {
     "name": "stdout",
     "output_type": "stream",
     "text": [
      " 1637138 /Users/kemalm/Desktop/yelp_dataset/user.json\r\n"
     ]
    }
   ],
   "source": [
    "!wc -l /Users/kemalm/Desktop/yelp_dataset/user.json"
   ]
  },
  {
   "cell_type": "code",
   "execution_count": 4,
   "metadata": {},
   "outputs": [
    {
     "data": {
      "text/plain": [
       "1637138"
      ]
     },
     "execution_count": 4,
     "metadata": {},
     "output_type": "execute_result"
    }
   ],
   "source": [
    "len(listOfDicts_user)"
   ]
  },
  {
   "cell_type": "markdown",
   "metadata": {},
   "source": [
    "### naming a list of attributes"
   ]
  },
  {
   "cell_type": "code",
   "execution_count": 8,
   "metadata": {},
   "outputs": [],
   "source": [
    "arr_user = np.array(['user_id', 'name', 'review_count', 'yelping_since', 'useful', \n",
    "                     'funny', 'cool', 'elite', 'friends', 'fans', \n",
    "                     'average_stars', 'compliment_hot', 'compliment_more', 'compliment_profile', 'compliment_cute', \n",
    "                     'compliment_list', 'compliment_note', 'compliment_plain', 'compliment_cool', 'compliment_funny', \n",
    "                     'compliment_writer', 'compliment_photos'])"
   ]
  },
  {
   "cell_type": "markdown",
   "metadata": {},
   "source": [
    "<h3> checking if all json objects, we obtained from <i style=\"color:blue\">user.json </i> file, actually contain all keys, that yelp dataset documentation claims they do </h3> "
   ]
  },
  {
   "cell_type": "code",
   "execution_count": 9,
   "metadata": {},
   "outputs": [
    {
     "name": "stdout",
     "output_type": "stream",
     "text": [
      "Executing the code ...\n",
      "\n",
      "1637138  number of records\n",
      "\n",
      "Key associated with its frequency: \n",
      " [['user_id' 1637138.0]\n",
      " ['name' 1637138.0]\n",
      " ['review_count' 1637138.0]\n",
      " ['yelping_since' 1637138.0]\n",
      " ['useful' 1637138.0]\n",
      " ['funny' 1637138.0]\n",
      " ['cool' 1637138.0]\n",
      " ['elite' 1637138.0]\n",
      " ['friends' 1637138.0]\n",
      " ['fans' 1637138.0]\n",
      " ['average_stars' 1637138.0]\n",
      " ['compliment_hot' 1637138.0]\n",
      " ['compliment_more' 1637138.0]\n",
      " ['compliment_profile' 1637138.0]\n",
      " ['compliment_cute' 1637138.0]\n",
      " ['compliment_list' 1637138.0]\n",
      " ['compliment_note' 1637138.0]\n",
      " ['compliment_plain' 1637138.0]\n",
      " ['compliment_cool' 1637138.0]\n",
      " ['compliment_funny' 1637138.0]\n",
      " ['compliment_writer' 1637138.0]\n",
      " ['compliment_photos' 1637138.0]]\n",
      "Execution time:  111.81420087814331  seconds.\n"
     ]
    }
   ],
   "source": [
    "start = time.time()\n",
    "print(\"Executing the code ...\\n\")\n",
    "df_containsfield= np.zeros((len(listOfDicts_user),len(arr_user)))\n",
    "\n",
    "for i in range(0,len(listOfDicts_user)):\n",
    "    df_containsfield[i,:] = np.isin(arr_user, np.array(list(listOfDicts_user[i].keys()))).astype(np.int64)\n",
    "print(df_containsfield.shape[0], \" number of records\\n\")\n",
    "tkeys_counter = np.zeros((arr_user.shape[0],2), dtype=np.object)\n",
    "tkeys_counter[:,0] = np.array(arr_user)\n",
    "tkeys_counter[:,1] = df_containsfield.sum(axis=0)\n",
    "print(\"Key associated with its frequency: \\n\", tkeys_counter)\n",
    "\n",
    "end=time.time()\n",
    "print(\"Execution time: \", end - start, \" seconds.\")\n"
   ]
  },
  {
   "cell_type": "markdown",
   "metadata": {},
   "source": [
    "<h3> number of null values per column</h3> \n",
    "<h5 style=\"color:red;\"> WARNING! Following method works very slow for very large datasets (user.json). </h5> \n",
    "<h5 style=\"color:red;\"> Therefore, it shouldn't be run more than once. </h5> "
   ]
  },
  {
   "cell_type": "code",
   "execution_count": 9,
   "metadata": {},
   "outputs": [
    {
     "name": "stdout",
     "output_type": "stream",
     "text": [
      "user_id\n",
      "       0\n",
      "name\n",
      "       0\n",
      "review_count\n",
      "       0\n",
      "yelping_since\n",
      "       0\n",
      "useful\n",
      "       0\n",
      "funny\n",
      "       0\n",
      "cool\n",
      "       0\n",
      "elite\n",
      "       0\n",
      "friends\n",
      "       0\n",
      "fans\n",
      "       0\n",
      "average_stars\n",
      "       0\n",
      "compliment_hot\n",
      "       0\n",
      "compliment_more\n",
      "       0\n",
      "compliment_profile\n",
      "       0\n",
      "compliment_cute\n",
      "       0\n",
      "compliment_list\n",
      "       0\n",
      "compliment_note\n",
      "       0\n",
      "compliment_plain\n",
      "       0\n",
      "compliment_cool\n",
      "       0\n",
      "compliment_funny\n",
      "       0\n",
      "compliment_writer\n",
      "       0\n",
      "compliment_photos\n",
      "       0\n",
      "Execution time:  963.2632689476013  seconds.\n"
     ]
    }
   ],
   "source": [
    "start = time.time()\n",
    "for a in list(arr_user):\n",
    "    !echo $a\n",
    "    !grep -e \"\\\"$a\\\":null\" /Users/kemalm/Desktop/yelp_dataset/user.json | wc -l\n",
    "end = time.time()\n",
    "print(\"Execution time: \", end - start, \" seconds.\")"
   ]
  },
  {
   "cell_type": "markdown",
   "metadata": {},
   "source": [
    "<h3> Creating a <i style=\"color:blue\"> user.csv </i> file and writing data to it. </h3> "
   ]
  },
  {
   "cell_type": "code",
   "execution_count": 24,
   "metadata": {},
   "outputs": [
    {
     "name": "stdout",
     "output_type": "stream",
     "text": [
      "Executing the code ...\n",
      "\n",
      "Successfully written 1637138 rows\n",
      "Execution time:  75.70107102394104\n"
     ]
    }
   ],
   "source": [
    "start = time.time()\n",
    "print(\"Executing the code ...\\n\")\n",
    "with open('/Users/kemalm/Desktop/yelp_dataset/user.csv','w',encoding='utf-8') as csv_file:\n",
    "    writer = csv.DictWriter(csv_file,user_cols, delimiter='\\t' )\n",
    "    writer.writeheader()\n",
    "    counter=0\n",
    "    for dictObj in listOfDicts_user:\n",
    "        writer.writerow(dictObj)\n",
    "        counter+=1\n",
    "print(\"Successfully written {} rows\".format(counter))\n",
    "end = time.time()\n",
    "print(\"Execution time: \", end - start, \" seconds.\")"
   ]
  },
  {
   "cell_type": "code",
   "execution_count": 47,
   "metadata": {},
   "outputs": [
    {
     "name": "stdout",
     "output_type": "stream",
     "text": [
      " 1637138 yelp_dataset/user.json\n",
      "User.csv has one more row used as a header.\n",
      " 1637139 yelp_dataset/user.csv\n"
     ]
    }
   ],
   "source": [
    "!wc -l yelp_dataset/user.json\n",
    "!echo \"User.csv has one more row used as a header.\"\n",
    "!wc -l yelp_dataset/user.csv\n"
   ]
  },
  {
   "cell_type": "markdown",
   "metadata": {},
   "source": [
    "# converting review.json to review.csv\n",
    "### importing from json file"
   ]
  },
  {
   "cell_type": "code",
   "execution_count": 4,
   "metadata": {},
   "outputs": [
    {
     "name": "stdout",
     "output_type": "stream",
     "text": [
      "Executing the code ...\n",
      "\n",
      "Successfully appended 6685900 dictionaries.\n",
      "Execution time:  71.14869093894958  seconds.\n"
     ]
    }
   ],
   "source": [
    "start = time.time()\n",
    "print(\"Executing the code ...\\n\")\n",
    "listOfDicts_review = []\n",
    "with open('/Users/kemalm/Desktop/yelp_dataset/review.json',encoding='utf-8') as f:\n",
    "    counter=0\n",
    "    for line in f:\n",
    "        listOfDicts_review.append(json.loads(line))\n",
    "        counter+=1\n",
    "print(\"Successfully appended {} dictionaries.\".format(counter))\n",
    "end = time.time()\n",
    "print(\"Execution time: \", end - start, \" seconds.\")"
   ]
  },
  {
   "cell_type": "code",
   "execution_count": 6,
   "metadata": {},
   "outputs": [
    {
     "name": "stdout",
     "output_type": "stream",
     "text": [
      " 6685900 /Users/kemalm/Desktop/yelp_dataset/review.json\r\n"
     ]
    }
   ],
   "source": [
    "!wc -l /Users/kemalm/Desktop/yelp_dataset/review.json"
   ]
  },
  {
   "cell_type": "markdown",
   "metadata": {},
   "source": [
    "### naming a list of attributes"
   ]
  },
  {
   "cell_type": "code",
   "execution_count": 11,
   "metadata": {},
   "outputs": [],
   "source": [
    "arr_review= np.array(['review_id', 'user_id', 'business_id', 'stars', 'useful',\n",
    "                      'funny', 'cool', 'text', 'date'])"
   ]
  },
  {
   "cell_type": "markdown",
   "metadata": {},
   "source": [
    "<h3> checking if all json objects, we obtained from <i style=\"color:blue\">review.json </i> file, actually contain all keys, that yelp dataset documentation claims they do </h3> "
   ]
  },
  {
   "cell_type": "code",
   "execution_count": 10,
   "metadata": {},
   "outputs": [
    {
     "name": "stdout",
     "output_type": "stream",
     "text": [
      "Executing the code ...\n",
      "\n",
      "6685900  number of records\n",
      "\n",
      "Key associated with its frequency: \n",
      " [['review_id' 6685900.0]\n",
      " ['user_id' 6685900.0]\n",
      " ['business_id' 6685900.0]\n",
      " ['stars' 6685900.0]\n",
      " ['useful' 6685900.0]\n",
      " ['funny' 6685900.0]\n",
      " ['cool' 6685900.0]\n",
      " ['text' 6685900.0]\n",
      " ['date' 6685900.0]]\n",
      "Execution time:  299.6732749938965  seconds.\n"
     ]
    }
   ],
   "source": [
    "start = time.time()\n",
    "print(\"Executing the code ...\\n\")\n",
    "df_containsfield= np.zeros((len(listOfDicts_review),len(arr_review)))\n",
    "\n",
    "for i in range(0,len(listOfDicts_review)):\n",
    "    df_containsfield[i,:] = np.isin(arr_review, np.array(list(listOfDicts_review[i].keys()))).astype(np.int64)\n",
    "print(df_containsfield.shape[0], \" number of records\\n\")\n",
    "tkeys_counter = np.zeros((arr_review.shape[0],2), dtype=np.object)\n",
    "tkeys_counter[:,0] = np.array(arr_review)\n",
    "tkeys_counter[:,1] = df_containsfield.sum(axis=0)\n",
    "print(\"Key associated with its frequency: \\n\", tkeys_counter)\n",
    "\n",
    "end=time.time()\n",
    "print(\"Execution time: \", end - start, \" seconds.\")"
   ]
  },
  {
   "cell_type": "markdown",
   "metadata": {},
   "source": [
    "<h3> number of null values per column</h3> \n",
    "<h5 style=\"color:red;\"> WARNING! Following method works very slow for very large datasets (user.json). </h5> \n",
    "<h5 style=\"color:red;\"> Therefore, it shouldn't be run more than once. </h5> "
   ]
  },
  {
   "cell_type": "code",
   "execution_count": 13,
   "metadata": {},
   "outputs": [
    {
     "name": "stdout",
     "output_type": "stream",
     "text": [
      "review_id\n",
      "       0\n",
      "user_id\n",
      "       0\n",
      "business_id\n",
      "       0\n",
      "stars\n",
      "       0\n",
      "useful\n",
      "       0\n",
      "funny\n",
      "       0\n",
      "cool\n",
      "       0\n",
      "text\n",
      "       0\n",
      "date\n",
      "       0\n",
      "Execution time:  913.4484198093414  seconds.\n"
     ]
    }
   ],
   "source": [
    "start = time.time()\n",
    "for a in list(arr_review):\n",
    "    !echo $a\n",
    "    !grep -e \"\\\"$a\\\":null\" /Users/kemalm/Desktop/yelp_dataset/review.json | wc -l\n",
    "end = time.time()\n",
    "print(\"Execution time: \", end - start, \" seconds.\")"
   ]
  },
  {
   "cell_type": "code",
   "execution_count": 3,
   "metadata": {},
   "outputs": [
    {
     "name": "stdout",
     "output_type": "stream",
     "text": [
      "['review_id', 'user_id', 'business_id', 'stars', 'useful', 'funny', 'cool', 'text', 'date']\n"
     ]
    }
   ],
   "source": [
    "review_cols = list(arr_review)\n",
    "print(review_cols)"
   ]
  },
  {
   "cell_type": "markdown",
   "metadata": {},
   "source": [
    "<h3> Creating a <i style=\"color:blue\"> review.csv </i> file and writing data to it. </h3> "
   ]
  },
  {
   "cell_type": "code",
   "execution_count": 4,
   "metadata": {},
   "outputs": [
    {
     "name": "stdout",
     "output_type": "stream",
     "text": [
      "Executing the code ...\n",
      "\n",
      "Successfully written 6685900 rows\n",
      "Execution time:  232.80819010734558  seconds.\n"
     ]
    }
   ],
   "source": [
    "start = time.time()\n",
    "print(\"Executing the code ...\\n\")\n",
    "with open('/Users/kemalm/Desktop/yelp_dataset/review.csv','w',encoding='utf-8') as csv_file:\n",
    "    writer = csv.DictWriter(csv_file,review_cols, delimiter='\\t' )\n",
    "    writer.writeheader()\n",
    "    counter=0\n",
    "    for dictObj in listOfDicts_review:\n",
    "        writer.writerow(dictObj)\n",
    "        counter+=1\n",
    "print(\"Successfully written {} rows\".format(counter))\n",
    "end = time.time()\n",
    "print(\"Execution time: \", end - start, \" seconds.\")\n",
    "\n"
   ]
  },
  {
   "cell_type": "markdown",
   "metadata": {},
   "source": [
    "# converting checkin.json to checkin.csv\n",
    "### importing from json file"
   ]
  },
  {
   "cell_type": "code",
   "execution_count": 7,
   "metadata": {},
   "outputs": [
    {
     "name": "stdout",
     "output_type": "stream",
     "text": [
      "Executing the code ...\n",
      "\n",
      "Successfully appended 161950 dictionaries.\n",
      "Execution time:  2.0320558547973633  seconds.\n"
     ]
    }
   ],
   "source": [
    "start = time.time()\n",
    "print(\"Executing the code ...\\n\")\n",
    "listOfDicts_checkin = []\n",
    "with open('/Users/kemalm/Desktop/yelp_dataset/checkin.json',encoding='utf-8') as f:\n",
    "    counter=0\n",
    "    for line in f:\n",
    "        listOfDicts_checkin.append(json.loads(line))\n",
    "        counter+=1\n",
    "print(\"Successfully appended {} dictionaries.\".format(counter))\n",
    "end = time.time()\n",
    "print(\"Execution time: \", end - start, \" seconds.\")"
   ]
  },
  {
   "cell_type": "code",
   "execution_count": 3,
   "metadata": {},
   "outputs": [
    {
     "name": "stdout",
     "output_type": "stream",
     "text": [
      "  161950 /Users/kemalm/Desktop/yelp_dataset/checkin.json\r\n"
     ]
    }
   ],
   "source": [
    "!wc -l /Users/kemalm/Desktop/yelp_dataset/checkin.json"
   ]
  },
  {
   "cell_type": "markdown",
   "metadata": {},
   "source": [
    "### naming a list of attributes"
   ]
  },
  {
   "cell_type": "code",
   "execution_count": 15,
   "metadata": {},
   "outputs": [],
   "source": [
    "arr_checkin = np.array(['business_id', 'date'])"
   ]
  },
  {
   "cell_type": "markdown",
   "metadata": {},
   "source": [
    "<h3> checking if all json objects, we obtained from <i style=\"color:blue\">checkin.json </i> file, actually contain all keys, that yelp dataset documentation claims they do </h3> "
   ]
  },
  {
   "cell_type": "code",
   "execution_count": 12,
   "metadata": {},
   "outputs": [
    {
     "name": "stdout",
     "output_type": "stream",
     "text": [
      "Executing the code ...\n",
      "\n",
      "161950  number of records\n",
      "\n",
      "Key associated with its frequency: \n",
      " [['business_id' 161950.0]\n",
      " ['date' 161950.0]]\n",
      "Execution time:  2.568455934524536  seconds.\n"
     ]
    }
   ],
   "source": [
    "start = time.time()\n",
    "print(\"Executing the code ...\\n\")\n",
    "df_containsfield= np.zeros((len(listOfDicts_checkin),len(arr_checkin)))\n",
    "\n",
    "for i in range(0,len(listOfDicts_checkin)):\n",
    "    df_containsfield[i,:] = np.isin(arr_checkin, np.array(list(listOfDicts_checkin[i].keys()))).astype(np.int64)\n",
    "print(df_containsfield.shape[0], \" number of records\\n\")\n",
    "tkeys_counter = np.zeros((arr_checkin.shape[0],2), dtype=np.object)\n",
    "tkeys_counter[:,0] = np.array(arr_checkin)\n",
    "tkeys_counter[:,1] = df_containsfield.sum(axis=0)\n",
    "print(\"Key associated with its frequency: \\n\", tkeys_counter)\n",
    "\n",
    "end=time.time()\n",
    "print(\"Execution time: \", end - start, \" seconds.\")"
   ]
  },
  {
   "cell_type": "markdown",
   "metadata": {},
   "source": [
    "<h3> number of null values per column</h3> "
   ]
  },
  {
   "cell_type": "code",
   "execution_count": 16,
   "metadata": {},
   "outputs": [
    {
     "name": "stdout",
     "output_type": "stream",
     "text": [
      "business_id\n",
      "       0\n",
      "date\n",
      "       0\n",
      "Execution time:  14.164305925369263  seconds.\n"
     ]
    }
   ],
   "source": [
    "start = time.time()\n",
    "for a in list(arr_checkin):\n",
    "    !echo $a\n",
    "    !grep -e \"\\\"$a\\\":null\" /Users/kemalm/Desktop/yelp_dataset/checkin.json | wc -l\n",
    "end = time.time()\n",
    "print(\"Execution time: \", end - start, \" seconds.\")"
   ]
  },
  {
   "cell_type": "code",
   "execution_count": 13,
   "metadata": {},
   "outputs": [
    {
     "name": "stdout",
     "output_type": "stream",
     "text": [
      "['business_id', 'date']\n"
     ]
    }
   ],
   "source": [
    "checkin_cols = list(arr_checkin)\n",
    "print(checkin_cols)"
   ]
  },
  {
   "cell_type": "markdown",
   "metadata": {},
   "source": [
    "<h3> Creating a <i style=\"color:blue\"> checkin.csv </i> file and writing data to it. </h3> "
   ]
  },
  {
   "cell_type": "code",
   "execution_count": 6,
   "metadata": {},
   "outputs": [
    {
     "name": "stdout",
     "output_type": "stream",
     "text": [
      "Executing the code ...\n",
      "\n",
      "Successfully written 161950 rows\n",
      "Execution time:  9.046382665634155  seconds.\n"
     ]
    }
   ],
   "source": [
    "start = time.time()\n",
    "print(\"Executing the code ...\\n\")\n",
    "with open('/Users/kemalm/Desktop/yelp_dataset/checkin.csv','w',encoding='utf-8') as csv_file:\n",
    "    writer = csv.DictWriter(csv_file,checkin_cols, delimiter='\\t' )\n",
    "    writer.writeheader()\n",
    "    counter=0\n",
    "    for dictObj in listOfDicts_checkin:\n",
    "        writer.writerow(dictObj)\n",
    "        counter+=1\n",
    "print(\"Successfully written {} rows\".format(counter))\n",
    "end = time.time()\n",
    "print(\"Execution time: \", end - start, \" seconds.\")"
   ]
  },
  {
   "cell_type": "code",
   "execution_count": 8,
   "metadata": {},
   "outputs": [
    {
     "name": "stdout",
     "output_type": "stream",
     "text": [
      "  161950 yelp_dataset/checkin.json\n",
      "  161951 yelp_dataset/checkin.csv\n"
     ]
    }
   ],
   "source": [
    "!wc -l yelp_dataset/checkin.json\n",
    "!wc -l yelp_dataset/checkin.csv\n"
   ]
  },
  {
   "cell_type": "markdown",
   "metadata": {},
   "source": [
    "# converting tip.json to tip.csv\n",
    "### importing from json file"
   ]
  },
  {
   "cell_type": "code",
   "execution_count": 3,
   "metadata": {},
   "outputs": [
    {
     "name": "stdout",
     "output_type": "stream",
     "text": [
      "Executing the code ...\n",
      "\n",
      "Successfully appended 1223094 dictionaries.\n",
      "Execution time:  6.717769145965576  seconds.\n"
     ]
    }
   ],
   "source": [
    "start = time.time()\n",
    "print(\"Executing the code ...\\n\")\n",
    "listOfDicts_tip = []\n",
    "with open('/Users/kemalm/Desktop/yelp_dataset/tip.json',encoding='utf-8') as f:\n",
    "    counter=0\n",
    "    for line in f:\n",
    "        listOfDicts_tip.append(json.loads(line))\n",
    "        counter+=1\n",
    "print(\"Successfully appended {} dictionaries.\".format(counter))\n",
    "end = time.time()\n",
    "print(\"Execution time: \", end - start, \" seconds.\")"
   ]
  },
  {
   "cell_type": "code",
   "execution_count": 6,
   "metadata": {},
   "outputs": [
    {
     "name": "stdout",
     "output_type": "stream",
     "text": [
      " 1223094 /Users/kemalm/Desktop/yelp_dataset/tip.json\r\n"
     ]
    }
   ],
   "source": [
    "!wc -l /Users/kemalm/Desktop/yelp_dataset/tip.json"
   ]
  },
  {
   "cell_type": "markdown",
   "metadata": {},
   "source": [
    "### naming a list of attributes"
   ]
  },
  {
   "cell_type": "code",
   "execution_count": 17,
   "metadata": {},
   "outputs": [],
   "source": [
    "arr_tip = np.array(['user_id', 'business_id', 'text', 'date', 'compliment_count'])"
   ]
  },
  {
   "cell_type": "markdown",
   "metadata": {},
   "source": [
    "<h3> checking if all json objects, we obtained from <i style=\"color:blue\">tip.json </i> file, actually contain all keys, that yelp dataset documentation claims they do </h3> "
   ]
  },
  {
   "cell_type": "code",
   "execution_count": 10,
   "metadata": {},
   "outputs": [
    {
     "name": "stdout",
     "output_type": "stream",
     "text": [
      "Executing the code ...\n",
      "\n",
      "1223094  number of records\n",
      "\n",
      "Key associated with its frequency: \n",
      " [['user_id' 1223094.0]\n",
      " ['business_id' 1223094.0]\n",
      " ['text' 1223094.0]\n",
      " ['date' 1223094.0]\n",
      " ['compliment_count' 1223094.0]]\n",
      "Execution time:  30.554124116897583  seconds.\n"
     ]
    }
   ],
   "source": [
    "start = time.time()\n",
    "print(\"Executing the code ...\\n\")\n",
    "df_containsfield= np.zeros((len(listOfDicts_tip),len(arr_tip)))\n",
    "\n",
    "for i in range(0,len(listOfDicts_tip)):\n",
    "    df_containsfield[i,:] = np.isin(arr_tip, np.array(list(listOfDicts_tip[i].keys()))).astype(np.int64)\n",
    "print(df_containsfield.shape[0], \" number of records\\n\")\n",
    "tkeys_counter = np.zeros((arr_tip.shape[0],2), dtype=np.object)\n",
    "tkeys_counter[:,0] = np.array(arr_tip)\n",
    "tkeys_counter[:,1] = df_containsfield.sum(axis=0)\n",
    "print(\"Key associated with its frequency: \\n\", tkeys_counter)\n",
    "\n",
    "end=time.time()\n",
    "print(\"Execution time: \", end - start, \" seconds.\")"
   ]
  },
  {
   "cell_type": "markdown",
   "metadata": {},
   "source": [
    "<h3> number of null values per column</h3> "
   ]
  },
  {
   "cell_type": "code",
   "execution_count": 18,
   "metadata": {},
   "outputs": [
    {
     "name": "stdout",
     "output_type": "stream",
     "text": [
      "user_id\n",
      "       0\n",
      "business_id\n",
      "       0\n",
      "text\n",
      "       0\n",
      "date\n",
      "       0\n",
      "compliment_count\n",
      "       0\n",
      "Execution time:  25.752610683441162  seconds.\n"
     ]
    }
   ],
   "source": [
    "start = time.time()\n",
    "for a in list(arr_tip):\n",
    "    !echo $a\n",
    "    !grep -e \"\\\"$a\\\":null\" /Users/kemalm/Desktop/yelp_dataset/tip.json | wc -l\n",
    "end = time.time()\n",
    "print(\"Execution time: \", end - start, \" seconds.\")"
   ]
  },
  {
   "cell_type": "code",
   "execution_count": 9,
   "metadata": {},
   "outputs": [
    {
     "name": "stdout",
     "output_type": "stream",
     "text": [
      "['user_id', 'business_id', 'text', 'date', 'compliment_count']\n"
     ]
    }
   ],
   "source": [
    "tip_cols = list(arr_tip)\n",
    "print(tip_cols)"
   ]
  },
  {
   "cell_type": "markdown",
   "metadata": {},
   "source": [
    "<h3> Creating a <i style=\"color:blue\"> tip.csv </i> file and writing data to it. </h3> "
   ]
  },
  {
   "cell_type": "code",
   "execution_count": 16,
   "metadata": {},
   "outputs": [
    {
     "name": "stdout",
     "output_type": "stream",
     "text": [
      "Executing the code ...\n",
      "\n",
      "Successfully written 1223094 rows\n",
      "Execution time:  8.033058166503906  seconds.\n"
     ]
    }
   ],
   "source": [
    "start = time.time()\n",
    "print(\"Executing the code ...\\n\")\n",
    "with open('/Users/kemalm/Desktop/yelp_dataset/tip.csv','w',encoding='utf-8') as csv_file:\n",
    "    writer = csv.DictWriter(csv_file,tip_cols, delimiter='\\t' )\n",
    "    writer.writeheader()\n",
    "    counter=0\n",
    "    for dictObj in listOfDicts_tip:\n",
    "        writer.writerow(dictObj)\n",
    "        counter+=1\n",
    "print(\"Successfully written {} rows\".format(counter))\n",
    "end = time.time()\n",
    "print(\"Execution time: \", end - start, \" seconds.\")"
   ]
  },
  {
   "cell_type": "markdown",
   "metadata": {},
   "source": [
    "# converting photo.json to photo.csv\n",
    "### importing from json file"
   ]
  },
  {
   "cell_type": "code",
   "execution_count": 6,
   "metadata": {},
   "outputs": [
    {
     "name": "stdout",
     "output_type": "stream",
     "text": [
      "Executing the code ...\n",
      "\n",
      "Successfully appended 200000 dictionaries.\n",
      "Execution time:  0.9235949516296387  seconds.\n"
     ]
    }
   ],
   "source": [
    "start = time.time()\n",
    "print(\"Executing the code ...\\n\")\n",
    "listOfDicts_photo = []\n",
    "with open('/Users/kemalm/Desktop/yelp_dataset/photo.json',encoding='utf-8') as f:\n",
    "    counter=0\n",
    "    for line in f:\n",
    "        listOfDicts_photo.append(json.loads(line))\n",
    "        counter+=1\n",
    "print(\"Successfully appended {} dictionaries.\".format(counter))\n",
    "end = time.time()\n",
    "print(\"Execution time: \", end - start, \" seconds.\")"
   ]
  },
  {
   "cell_type": "code",
   "execution_count": 2,
   "metadata": {},
   "outputs": [
    {
     "name": "stdout",
     "output_type": "stream",
     "text": [
      "  200000 /Users/kemalm/Desktop/yelp_dataset/photo.json\r\n"
     ]
    }
   ],
   "source": [
    "!wc -l /Users/kemalm/Desktop/yelp_dataset/photo.json"
   ]
  },
  {
   "cell_type": "markdown",
   "metadata": {},
   "source": [
    "### naming a list of attributes"
   ]
  },
  {
   "cell_type": "code",
   "execution_count": 20,
   "metadata": {},
   "outputs": [],
   "source": [
    "arr_photo = np.array(['caption', 'photo_id', 'business_id', 'label'])"
   ]
  },
  {
   "cell_type": "markdown",
   "metadata": {},
   "source": [
    "<h3> checking if all json objects, we obtained from <i style=\"color:blue\">photo.json </i> file, actually contain all keys, that yelp dataset documentation claims they do </h3> "
   ]
  },
  {
   "cell_type": "code",
   "execution_count": 10,
   "metadata": {},
   "outputs": [
    {
     "name": "stdout",
     "output_type": "stream",
     "text": [
      "Executing the code ...\n",
      "\n",
      "200000  number of records\n",
      "\n",
      "Key associated with its frequency: \n",
      " [['caption' 200000.0]\n",
      " ['photo_id' 200000.0]\n",
      " ['business_id' 200000.0]\n",
      " ['label' 200000.0]]\n",
      "Execution time:  4.147678852081299  seconds.\n"
     ]
    }
   ],
   "source": [
    "start = time.time()\n",
    "print(\"Executing the code ...\\n\")\n",
    "df_containsfield= np.zeros((len(listOfDicts_photo),len(arr_photo)))\n",
    "\n",
    "for i in range(0,len(listOfDicts_photo)):\n",
    "    df_containsfield[i,:] = np.isin(arr_photo, np.array(list(listOfDicts_photo[i].keys()))).astype(np.int64)\n",
    "print(df_containsfield.shape[0], \" number of records\\n\")\n",
    "tkeys_counter = np.zeros((arr_photo.shape[0],2), dtype=np.object)\n",
    "tkeys_counter[:,0] = np.array(arr_photo)\n",
    "tkeys_counter[:,1] = df_containsfield.sum(axis=0)\n",
    "print(\"Key associated with its frequency: \\n\", tkeys_counter)\n",
    "\n",
    "end=time.time()\n",
    "print(\"Execution time: \", end - start, \" seconds.\")"
   ]
  },
  {
   "cell_type": "markdown",
   "metadata": {},
   "source": [
    "<h3> number of null values per column</h3> "
   ]
  },
  {
   "cell_type": "code",
   "execution_count": 21,
   "metadata": {},
   "outputs": [
    {
     "name": "stdout",
     "output_type": "stream",
     "text": [
      "caption\n",
      "       0\n",
      "photo_id\n",
      "       0\n",
      "business_id\n",
      "       0\n",
      "label\n",
      "       0\n",
      "Execution time:  3.233721971511841  seconds.\n"
     ]
    }
   ],
   "source": [
    "start = time.time()\n",
    "for a in list(arr_photo):\n",
    "    !echo $a\n",
    "    !grep -e \"\\\"$a\\\":null\" /Users/kemalm/Desktop/yelp_dataset/photo.json | wc -l\n",
    "end = time.time()\n",
    "print(\"Execution time: \", end - start, \" seconds.\")"
   ]
  },
  {
   "cell_type": "code",
   "execution_count": 9,
   "metadata": {},
   "outputs": [
    {
     "name": "stdout",
     "output_type": "stream",
     "text": [
      "['caption', 'photo_id', 'business_id', 'label']\n"
     ]
    }
   ],
   "source": [
    "photo_cols = list(arr_photo)\n",
    "print(photo_cols)"
   ]
  },
  {
   "cell_type": "markdown",
   "metadata": {},
   "source": [
    "<h3> Creating a <i style=\"color:blue\"> photo.csv </i> file and writing data to it. </h3> "
   ]
  },
  {
   "cell_type": "code",
   "execution_count": 13,
   "metadata": {},
   "outputs": [
    {
     "name": "stdout",
     "output_type": "stream",
     "text": [
      "Executing the code ...\n",
      "\n"
     ]
    },
    {
     "ename": "NameError",
     "evalue": "name 'csv' is not defined",
     "output_type": "error",
     "traceback": [
      "\u001b[0;31m---------------------------------------------------------------------------\u001b[0m",
      "\u001b[0;31mNameError\u001b[0m                                 Traceback (most recent call last)",
      "\u001b[0;32m<ipython-input-13-e0c41b054e99>\u001b[0m in \u001b[0;36m<module>\u001b[0;34m\u001b[0m\n\u001b[1;32m      2\u001b[0m \u001b[0mprint\u001b[0m\u001b[0;34m(\u001b[0m\u001b[0;34m\"Executing the code ...\\n\"\u001b[0m\u001b[0;34m)\u001b[0m\u001b[0;34m\u001b[0m\u001b[0;34m\u001b[0m\u001b[0m\n\u001b[1;32m      3\u001b[0m \u001b[0;32mwith\u001b[0m \u001b[0mopen\u001b[0m\u001b[0;34m(\u001b[0m\u001b[0;34m'/Users/kemalm/Desktop/yelp_dataset/photo.csv'\u001b[0m\u001b[0;34m,\u001b[0m\u001b[0;34m'w'\u001b[0m\u001b[0;34m,\u001b[0m\u001b[0mencoding\u001b[0m\u001b[0;34m=\u001b[0m\u001b[0;34m'utf-8'\u001b[0m\u001b[0;34m)\u001b[0m \u001b[0;32mas\u001b[0m \u001b[0mcsv_file\u001b[0m\u001b[0;34m:\u001b[0m\u001b[0;34m\u001b[0m\u001b[0;34m\u001b[0m\u001b[0m\n\u001b[0;32m----> 4\u001b[0;31m     \u001b[0mwriter\u001b[0m \u001b[0;34m=\u001b[0m \u001b[0mcsv\u001b[0m\u001b[0;34m.\u001b[0m\u001b[0mDictWriter\u001b[0m\u001b[0;34m(\u001b[0m\u001b[0mcsv_file\u001b[0m\u001b[0;34m,\u001b[0m\u001b[0mphoto_cols\u001b[0m\u001b[0;34m,\u001b[0m \u001b[0mdelimiter\u001b[0m\u001b[0;34m=\u001b[0m\u001b[0;34m'\\t'\u001b[0m \u001b[0;34m)\u001b[0m\u001b[0;34m\u001b[0m\u001b[0;34m\u001b[0m\u001b[0m\n\u001b[0m\u001b[1;32m      5\u001b[0m     \u001b[0mwriter\u001b[0m\u001b[0;34m.\u001b[0m\u001b[0mwriteheader\u001b[0m\u001b[0;34m(\u001b[0m\u001b[0;34m)\u001b[0m\u001b[0;34m\u001b[0m\u001b[0;34m\u001b[0m\u001b[0m\n\u001b[1;32m      6\u001b[0m     \u001b[0mcounter\u001b[0m\u001b[0;34m=\u001b[0m\u001b[0;36m0\u001b[0m\u001b[0;34m\u001b[0m\u001b[0;34m\u001b[0m\u001b[0m\n",
      "\u001b[0;31mNameError\u001b[0m: name 'csv' is not defined"
     ]
    }
   ],
   "source": [
    "start = time.time()\n",
    "print(\"Executing the code ...\\n\")\n",
    "with open('/Users/kemalm/Desktop/yelp_dataset/photo.csv','w',encoding='utf-8') as csv_file:\n",
    "    writer = csv.DictWriter(csv_file,photo_cols, delimiter='\\t' )\n",
    "    writer.writeheader()\n",
    "    counter=0\n",
    "    for dictObj in listOfDicts_photo:\n",
    "        writer.writerow(dictObj)\n",
    "        counter+=1\n",
    "print(\"Successfully written {} rows\".format(counter))\n",
    "end = time.time()\n",
    "print(\"Execution time: \", end - start, \" seconds.\")"
   ]
  },
  {
   "cell_type": "markdown",
   "metadata": {},
   "source": [
    "# Python-to-PostgreSQL client"
   ]
  },
  {
   "cell_type": "code",
   "execution_count": 1,
   "metadata": {},
   "outputs": [],
   "source": [
    "import psycopg2\n",
    "import pandas as pd"
   ]
  },
  {
   "cell_type": "code",
   "execution_count": 2,
   "metadata": {},
   "outputs": [],
   "source": [
    "try:\n",
    "    conn=psycopg2.connect(\"dbname='yelpDB' user='postgres' host='localhost' password='P0$tgre$QL'\")\n",
    "except:\n",
    "    print(\"I am unable to connect to the database\")"
   ]
  },
  {
   "cell_type": "code",
   "execution_count": 3,
   "metadata": {},
   "outputs": [],
   "source": [
    "cur = conn.cursor()\n",
    "#cur.execute(\"\"\"select city,state, count(business_id)\n",
    "#                from Businesses\n",
    "#                where is_open = 1\n",
    "#                group by city,state\n",
    "#                order by 3 desc\n",
    "#                limit 10\"\"\")\n",
    "#recordsDB = cur.fetchall()"
   ]
  },
  {
   "cell_type": "code",
   "execution_count": 5,
   "metadata": {},
   "outputs": [],
   "source": [
    "cur = conn.cursor()\n",
    "cur.execute(\"\"\"select business_id, name, address, city, state, latitude, longitude, categories, is_open\n",
    "                from Businesses\"\"\")\n",
    "recordsDB = cur.fetchall()"
   ]
  },
  {
   "cell_type": "markdown",
   "metadata": {},
   "source": [
    "# Frequency"
   ]
  },
  {
   "cell_type": "markdown",
   "metadata": {},
   "source": [
    "### US/Canada states/provinces by number of businesses"
   ]
  },
  {
   "cell_type": "code",
   "execution_count": 19,
   "metadata": {},
   "outputs": [],
   "source": [
    "cur.execute(\"\"\"SELECT state,  COUNT(business_id) AS Total_Count\n",
    "               FROM Businesses\n",
    "               WHERE is_open = 1\n",
    "               GROUP BY state \n",
    "               ORDER BY 2 DESC\"\"\")\n",
    "freqrecords = cur.fetchall()"
   ]
  },
  {
   "cell_type": "code",
   "execution_count": 20,
   "metadata": {},
   "outputs": [
    {
     "data": {
      "text/html": [
       "<div>\n",
       "<style scoped>\n",
       "    .dataframe tbody tr th:only-of-type {\n",
       "        vertical-align: middle;\n",
       "    }\n",
       "\n",
       "    .dataframe tbody tr th {\n",
       "        vertical-align: top;\n",
       "    }\n",
       "\n",
       "    .dataframe thead th {\n",
       "        text-align: right;\n",
       "    }\n",
       "</style>\n",
       "<table border=\"1\" class=\"dataframe\">\n",
       "  <thead>\n",
       "    <tr style=\"text-align: right;\">\n",
       "      <th></th>\n",
       "      <th>State</th>\n",
       "      <th>Total # of businesses</th>\n",
       "    </tr>\n",
       "  </thead>\n",
       "  <tbody>\n",
       "    <tr>\n",
       "      <th>0</th>\n",
       "      <td>AZ</td>\n",
       "      <td>46910</td>\n",
       "    </tr>\n",
       "    <tr>\n",
       "      <th>1</th>\n",
       "      <td>NV</td>\n",
       "      <td>29562</td>\n",
       "    </tr>\n",
       "    <tr>\n",
       "      <th>2</th>\n",
       "      <td>ON</td>\n",
       "      <td>26525</td>\n",
       "    </tr>\n",
       "    <tr>\n",
       "      <th>3</th>\n",
       "      <td>OH</td>\n",
       "      <td>12546</td>\n",
       "    </tr>\n",
       "    <tr>\n",
       "      <th>4</th>\n",
       "      <td>NC</td>\n",
       "      <td>12419</td>\n",
       "    </tr>\n",
       "    <tr>\n",
       "      <th>5</th>\n",
       "      <td>PA</td>\n",
       "      <td>9430</td>\n",
       "    </tr>\n",
       "    <tr>\n",
       "      <th>6</th>\n",
       "      <td>QC</td>\n",
       "      <td>7623</td>\n",
       "    </tr>\n",
       "    <tr>\n",
       "      <th>7</th>\n",
       "      <td>AB</td>\n",
       "      <td>6694</td>\n",
       "    </tr>\n",
       "    <tr>\n",
       "      <th>8</th>\n",
       "      <td>WI</td>\n",
       "      <td>4210</td>\n",
       "    </tr>\n",
       "    <tr>\n",
       "      <th>9</th>\n",
       "      <td>IL</td>\n",
       "      <td>1545</td>\n",
       "    </tr>\n",
       "  </tbody>\n",
       "</table>\n",
       "</div>"
      ],
      "text/plain": [
       "  State  Total # of businesses\n",
       "0    AZ                  46910\n",
       "1    NV                  29562\n",
       "2    ON                  26525\n",
       "3    OH                  12546\n",
       "4    NC                  12419\n",
       "5    PA                   9430\n",
       "6    QC                   7623\n",
       "7    AB                   6694\n",
       "8    WI                   4210\n",
       "9    IL                   1545"
      ]
     },
     "execution_count": 20,
     "metadata": {},
     "output_type": "execute_result"
    }
   ],
   "source": [
    "pd.DataFrame(freqrecords, columns=['State','Total # of businesses']).head(10)"
   ]
  },
  {
   "cell_type": "markdown",
   "metadata": {},
   "source": [
    "### Cities by number of businesses"
   ]
  },
  {
   "cell_type": "code",
   "execution_count": 17,
   "metadata": {},
   "outputs": [],
   "source": [
    "cur.execute(\"\"\"select city,state, count(business_id)\n",
    "               from Businesses\n",
    "               where is_open = 1\n",
    "               group by city,state\n",
    "               order by 3 desc\"\"\")\n",
    "freqrecords = cur.fetchall()"
   ]
  },
  {
   "cell_type": "code",
   "execution_count": 18,
   "metadata": {},
   "outputs": [
    {
     "data": {
      "text/html": [
       "<div>\n",
       "<style scoped>\n",
       "    .dataframe tbody tr th:only-of-type {\n",
       "        vertical-align: middle;\n",
       "    }\n",
       "\n",
       "    .dataframe tbody tr th {\n",
       "        vertical-align: top;\n",
       "    }\n",
       "\n",
       "    .dataframe thead th {\n",
       "        text-align: right;\n",
       "    }\n",
       "</style>\n",
       "<table border=\"1\" class=\"dataframe\">\n",
       "  <thead>\n",
       "    <tr style=\"text-align: right;\">\n",
       "      <th></th>\n",
       "      <th>City</th>\n",
       "      <th>State</th>\n",
       "      <th>Total # of businesses</th>\n",
       "    </tr>\n",
       "  </thead>\n",
       "  <tbody>\n",
       "    <tr>\n",
       "      <th>0</th>\n",
       "      <td>Las Vegas</td>\n",
       "      <td>NV</td>\n",
       "      <td>23784</td>\n",
       "    </tr>\n",
       "    <tr>\n",
       "      <th>1</th>\n",
       "      <td>Phoenix</td>\n",
       "      <td>AZ</td>\n",
       "      <td>15471</td>\n",
       "    </tr>\n",
       "    <tr>\n",
       "      <th>2</th>\n",
       "      <td>Toronto</td>\n",
       "      <td>ON</td>\n",
       "      <td>14329</td>\n",
       "    </tr>\n",
       "    <tr>\n",
       "      <th>3</th>\n",
       "      <td>Charlotte</td>\n",
       "      <td>NC</td>\n",
       "      <td>7945</td>\n",
       "    </tr>\n",
       "    <tr>\n",
       "      <th>4</th>\n",
       "      <td>Scottsdale</td>\n",
       "      <td>AZ</td>\n",
       "      <td>7081</td>\n",
       "    </tr>\n",
       "    <tr>\n",
       "      <th>5</th>\n",
       "      <td>Calgary</td>\n",
       "      <td>AB</td>\n",
       "      <td>6445</td>\n",
       "    </tr>\n",
       "    <tr>\n",
       "      <th>6</th>\n",
       "      <td>Pittsburgh</td>\n",
       "      <td>PA</td>\n",
       "      <td>5736</td>\n",
       "    </tr>\n",
       "    <tr>\n",
       "      <th>7</th>\n",
       "      <td>Montréal</td>\n",
       "      <td>QC</td>\n",
       "      <td>5163</td>\n",
       "    </tr>\n",
       "    <tr>\n",
       "      <th>8</th>\n",
       "      <td>Mesa</td>\n",
       "      <td>AZ</td>\n",
       "      <td>5149</td>\n",
       "    </tr>\n",
       "    <tr>\n",
       "      <th>9</th>\n",
       "      <td>Henderson</td>\n",
       "      <td>NV</td>\n",
       "      <td>4026</td>\n",
       "    </tr>\n",
       "  </tbody>\n",
       "</table>\n",
       "</div>"
      ],
      "text/plain": [
       "         City State  Total # of businesses\n",
       "0   Las Vegas    NV                  23784\n",
       "1     Phoenix    AZ                  15471\n",
       "2     Toronto    ON                  14329\n",
       "3   Charlotte    NC                   7945\n",
       "4  Scottsdale    AZ                   7081\n",
       "5     Calgary    AB                   6445\n",
       "6  Pittsburgh    PA                   5736\n",
       "7    Montréal    QC                   5163\n",
       "8        Mesa    AZ                   5149\n",
       "9   Henderson    NV                   4026"
      ]
     },
     "execution_count": 18,
     "metadata": {},
     "output_type": "execute_result"
    }
   ],
   "source": [
    "pd.DataFrame(freqrecords, columns=['City','State','Total # of businesses']).head(10)"
   ]
  },
  {
   "cell_type": "code",
   "execution_count": null,
   "metadata": {},
   "outputs": [],
   "source": []
  },
  {
   "cell_type": "markdown",
   "metadata": {},
   "source": [
    "# Google Places: Sending HTTP Requests "
   ]
  },
  {
   "cell_type": "code",
   "execution_count": 16,
   "metadata": {},
   "outputs": [],
   "source": [
    "import time\n",
    "import requests\n",
    "from scipy.spatial.distance import pdist\n",
    "from geopy.distance import geodesic\n",
    "import numpy as np\n",
    "import random as rn\n",
    "import json"
   ]
  },
  {
   "cell_type": "code",
   "execution_count": 17,
   "metadata": {},
   "outputs": [],
   "source": [
    "key_content= !cat /Users/kemalm/Desktop/gmAPI.txt\n",
    "api_key = key_content[0]"
   ]
  },
  {
   "cell_type": "code",
   "execution_count": 18,
   "metadata": {},
   "outputs": [
    {
     "name": "stdout",
     "output_type": "stream",
     "text": [
      "{'business_id': 0, 'name': 1, 'address': 2, 'city': 3, 'state': 4, 'latitude': 5, 'longitude': 6, 'categories': 7, 'is_open': 8, 'hours': 9}\n"
     ]
    }
   ],
   "source": [
    "fields = ['business_id','name', 'address', 'city', 'state', 'latitude', 'longitude', 'categories', 'is_open', 'hours']\n",
    "#k = np.core.defchararray.add(np.array(['obt_']),np.array(fields))\n",
    "\n",
    "#print(k)\n",
    "indices =[x for x in range(0,len(fields))]\n",
    "#print(indices)\n",
    "mapDictIndexes = dict(zip(fields,indices))\n",
    "print(mapDictIndexes)"
   ]
  },
  {
   "cell_type": "code",
   "execution_count": 19,
   "metadata": {},
   "outputs": [],
   "source": [
    "coordinates = np.array([[0,0],\n",
    "                        [ 0, 180]])# Using the geodesic distance function.\n",
    "m_dist = pdist(coordinates, # Coordinates matrix or tuples list\n",
    "               lambda u, v: geodesic(u, v).kilometers)\n"
   ]
  },
  {
   "cell_type": "code",
   "execution_count": 10,
   "metadata": {},
   "outputs": [],
   "source": [
    "smpl_lat,smpl_lng =  33.5221294, -112.0181866\n",
    "url_api_place_nearbySearch =\"https://maps.googleapis.com/maps/api/place/nearbysearch/json?location={},{}&radius=500&keyword={}&key={}\".format(\n",
    "smpl_lat,smpl_lng,'Arizona Biltmore Golf Club', api_key)\n",
    "response_api_place_nearbySearch =requests.get(url_api_place_nearbySearch)"
   ]
  },
  {
   "cell_type": "code",
   "execution_count": 12,
   "metadata": {},
   "outputs": [],
   "source": [
    "#print(json.dumps(response_api_place_nearbySearch.json()))"
   ]
  },
  {
   "cell_type": "code",
   "execution_count": 11,
   "metadata": {},
   "outputs": [],
   "source": [
    "smpl_lat,smpl_lng =  33.626171,-111.915779\n",
    "url_api_place_nearbySearch =\"https://maps.googleapis.com/maps/api/place/nearbysearch/json?location={},{}&radius=500&keyword={}&key={}\".format(\n",
    "smpl_lat,smpl_lng,'Precision Door Service', api_key)\n",
    "response_api_place_nearbySearch =requests.get(url_api_place_nearbySearch)"
   ]
  },
  {
   "cell_type": "code",
   "execution_count": 109,
   "metadata": {},
   "outputs": [],
   "source": [
    "smpl_address = '19420 N 59th Ave, Ste 13'.replace(' ','+')\n",
    "url_geocoding = \"https://maps.googleapis.com/maps/api/geocode/json?address={}&key={}\".format(smpl_address,api_key)\n",
    "response_geocoding = requests.get(url_geocoding)\n",
    "response_geocodingJSON= response_geocoding.json()\n",
    "#print(json.dumps(response_geocodingJSON))\n",
    "\n",
    "#frm_address = response_geocodingJSON['results'][0]['formatted_address']\n",
    "#frm_address.rsplit(',',4)"
   ]
  },
  {
   "cell_type": "code",
   "execution_count": null,
   "metadata": {},
   "outputs": [],
   "source": [
    "smpl_address = '19420 N 59th Ave, Ste 13'.replace(' ','+')\n",
    "url_geocoding = \"https://maps.googleapis.com/maps/api/geocode/json?address={}&key={}\".format(smpl_address,api_key)\n",
    "response_geocoding = requests.get(url_geocoding)\n",
    "response_geocodingJSON= response_geocoding.json()"
   ]
  },
  {
   "cell_type": "code",
   "execution_count": 110,
   "metadata": {},
   "outputs": [
    {
     "data": {
      "text/plain": [
       "{'results': [{'address_components': [{'long_name': '13',\n",
       "     'short_name': '13',\n",
       "     'types': ['subpremise']},\n",
       "    {'long_name': '19420', 'short_name': '19420', 'types': ['street_number']},\n",
       "    {'long_name': 'North 59th Avenue',\n",
       "     'short_name': 'N 59th Ave',\n",
       "     'types': ['route']},\n",
       "    {'long_name': 'Arrowhead Ranch',\n",
       "     'short_name': 'Arrowhead Ranch',\n",
       "     'types': ['neighborhood', 'political']},\n",
       "    {'long_name': 'Glendale',\n",
       "     'short_name': 'Glendale',\n",
       "     'types': ['locality', 'political']},\n",
       "    {'long_name': 'Maricopa County',\n",
       "     'short_name': 'Maricopa County',\n",
       "     'types': ['administrative_area_level_2', 'political']},\n",
       "    {'long_name': 'Arizona',\n",
       "     'short_name': 'AZ',\n",
       "     'types': ['administrative_area_level_1', 'political']},\n",
       "    {'long_name': 'United States',\n",
       "     'short_name': 'US',\n",
       "     'types': ['country', 'political']},\n",
       "    {'long_name': '85308', 'short_name': '85308', 'types': ['postal_code']}],\n",
       "   'formatted_address': '19420 N 59th Ave #13, Glendale, AZ 85308, USA',\n",
       "   'geometry': {'location': {'lat': 33.6621745, 'lng': -112.1878351},\n",
       "    'location_type': 'ROOFTOP',\n",
       "    'viewport': {'northeast': {'lat': 33.6635234802915,\n",
       "      'lng': -112.1864861197085},\n",
       "     'southwest': {'lat': 33.6608255197085, 'lng': -112.1891840802915}}},\n",
       "   'place_id': 'Ei0xMywgMTk0MjAgTiA1OXRoIEF2ZSwgR2xlbmRhbGUsIEFaIDg1MzA4LCBVU0EiHhocChYKFAoSCUWS24WJaCuHEcoYz4U7m1DcEgIxMw',\n",
       "   'types': ['subpremise']}],\n",
       " 'status': 'OK'}"
      ]
     },
     "execution_count": 110,
     "metadata": {},
     "output_type": "execute_result"
    }
   ],
   "source": [
    "response_geocodingJSON"
   ]
  },
  {
   "cell_type": "markdown",
   "metadata": {},
   "source": [
    "# Obtaining info from Find Place (Places API)"
   ]
  },
  {
   "cell_type": "code",
   "execution_count": 1,
   "metadata": {},
   "outputs": [],
   "source": [
    "import psycopg2\n",
    "import numpy as np\n",
    "import pandas as pd\n",
    "import time\n",
    "import requests\n",
    "from scipy.spatial.distance import pdist\n",
    "from geopy.distance import geodesic\n",
    "import random as rn\n",
    "import json\n",
    "\n",
    "try:\n",
    "    conn=psycopg2.connect(\"dbname='yelpDB' user='postgres' host='localhost' password='P0$tgre$QL'\")\n",
    "except:\n",
    "    print(\"I am unable to connect to the database\")\n",
    "cur = conn.cursor()\n",
    "cur.execute(\"\"\"select business_id, name, address, city, state, latitude, longitude, categories\n",
    "                from Businesses\"\"\")\n",
    "recordsDB = cur.fetchall()"
   ]
  },
  {
   "cell_type": "code",
   "execution_count": 2,
   "metadata": {},
   "outputs": [
    {
     "name": "stdout",
     "output_type": "stream",
     "text": [
      "{'business_id': 0, 'name': 1, 'address': 2, 'city': 3, 'state': 4, 'latitude': 5, 'longitude': 6, 'categories': 7}\n"
     ]
    }
   ],
   "source": [
    "key_content= !cat /Users/kemalm/Desktop/gmAPI.txt\n",
    "api_key = key_content[0]\n",
    "fields = ['business_id','name', 'address', 'city', 'state', 'latitude', 'longitude', 'categories']\n",
    "#k = np.core.defchararray.add(np.array(['obt_']),np.array(fields))\n",
    "\n",
    "#print(k)\n",
    "indices =[x for x in range(0,len(fields))]\n",
    "#print(indices)\n",
    "mapDictIndexes = dict(zip(fields,indices))\n",
    "print(mapDictIndexes)\n",
    "\n",
    "\n"
   ]
  },
  {
   "cell_type": "code",
   "execution_count": 3,
   "metadata": {},
   "outputs": [
    {
     "data": {
      "text/plain": [
       "192609"
      ]
     },
     "execution_count": 3,
     "metadata": {},
     "output_type": "execute_result"
    }
   ],
   "source": [
    "len(recordsDB)"
   ]
  },
  {
   "cell_type": "code",
   "execution_count": 4,
   "metadata": {},
   "outputs": [],
   "source": [
    "def HandlingRequest(record):\n",
    "    dictObj=dict()\n",
    "    \n",
    "    business_name = record[mapDictIndexes['name']] \n",
    "    business_address = record[mapDictIndexes['address']]\n",
    "    business_latitude = record[mapDictIndexes['latitude']]\n",
    "    business_longitude = record[mapDictIndexes['longitude']]\n",
    "    \n",
    "    dictObj['business_id'] = record[mapDictIndexes['business_id']] \n",
    "    dictObj['name']= business_name\n",
    "    dictObj['address']= business_address\n",
    "    dictObj['city']= record[mapDictIndexes['city']]\n",
    "    dictObj['state']= record[mapDictIndexes['state']]\n",
    "    dictObj['latitude']= business_latitude\n",
    "    dictObj['longitude']= business_longitude\n",
    "    dictObj['categories']= record[mapDictIndexes['categories']]\n",
    "    #dictObj['is_open']= record[mapDictIndexes['is_open']]\n",
    "     \n",
    "\n",
    "    url_placeSearch =\"https://maps.googleapis.com/maps/api/place/findplacefromtext/json?input={}&inputtype=textquery&locationbias=circle:1000@{},{}&key={}&fields=place_id,name,formatted_address,geometry,type,permanently_closed\".format(\n",
    "    business_name,business_latitude,business_longitude, api_key)\n",
    "       \n",
    "    response_placeSearch =requests.get(url_placeSearch)\n",
    "    response_placeSearchJSON= response_placeSearch.json()\n",
    "       \n",
    "    dictObj['found_by_coordinates_and_name'] = response_placeSearchJSON['status']\n",
    "    if(dictObj['found_by_coordinates_and_name']=='OK'):\n",
    "        ObtainData(dictObj,response_placeSearchJSON)            \n",
    "    return dictObj"
   ]
  },
  {
   "cell_type": "code",
   "execution_count": 5,
   "metadata": {},
   "outputs": [],
   "source": [
    "def ObtainData(dictObj, response_placeSearchJSON):\n",
    "    place_id = response_placeSearchJSON['candidates'][0]['place_id']\n",
    "    dictObj['obt_name']= response_placeSearchJSON['candidates'][0]['name']\n",
    "\n",
    "    dictObj['formatted_address'] = response_placeSearchJSON['candidates'][0]['formatted_address']\n",
    "    obt_lat,obt_lng =response_placeSearchJSON['candidates'][0]['geometry']['location']['lat'], response_placeSearchJSON['candidates'][0]['geometry']['location']['lng']\n",
    "    dictObj['obt_latitude']= obt_lat\n",
    "    dictObj['obt_longitude']= obt_lng\n",
    "  \n",
    "    coordinates=np.array([[dictObj['latitude'], dictObj['longitude']],[obt_lat,obt_lng]])\n",
    "    #executing pdist function to calculate distance between spherical points (in kilometers) \n",
    "    m_dist = pdist(coordinates, # Coordinates matrix or tuples list\n",
    "           lambda u, v: geodesic(u, v).kilometers)\n",
    "\n",
    "    dictObj['calc_distance']= float(m_dist)* 1000.0\n",
    "    listTypes = response_placeSearchJSON['candidates'][0]['types']\n",
    "    strTypes =\", \".join(listTypes)\n",
    "    dictObj['obt_categories']= strTypes   "
   ]
  },
  {
   "cell_type": "code",
   "execution_count": 6,
   "metadata": {},
   "outputs": [
    {
     "name": "stdout",
     "output_type": "stream",
     "text": [
      "Appended 100 rows. In total 100\n",
      "Execution time:  75.43434715270996  seconds.\n",
      "Appended 100 rows. In total 200\n",
      "Execution time:  152.0036449432373  seconds.\n",
      "Appended 100 rows. In total 300\n",
      "Execution time:  226.57839107513428  seconds.\n",
      "Appended 100 rows. In total 400\n",
      "Execution time:  304.3778040409088  seconds.\n",
      "Appended 100 rows. In total 500\n",
      "Execution time:  380.69230222702026  seconds.\n",
      "Appended 100 rows. In total 600\n",
      "Execution time:  457.28849601745605  seconds.\n",
      "Appended 100 rows. In total 700\n",
      "Execution time:  535.0108151435852  seconds.\n",
      "Appended 100 rows. In total 800\n",
      "Execution time:  613.0421051979065  seconds.\n",
      "Appended 100 rows. In total 900\n",
      "Execution time:  689.3292510509491  seconds.\n",
      "Appended 100 rows. In total 1000\n",
      "Execution time:  764.7993950843811  seconds.\n",
      "Appended 100 rows. In total 1100\n",
      "Execution time:  838.2211542129517  seconds.\n",
      "Appended 100 rows. In total 1200\n",
      "Execution time:  913.8778200149536  seconds.\n",
      "Appended 100 rows. In total 1300\n",
      "Execution time:  987.2141551971436  seconds.\n",
      "Appended 100 rows. In total 1400\n",
      "Execution time:  1061.8645250797272  seconds.\n",
      "Appended 100 rows. In total 1500\n",
      "Execution time:  1137.6489219665527  seconds.\n",
      "Appended 100 rows. In total 1600\n",
      "Execution time:  1211.789113998413  seconds.\n",
      "Appended 100 rows. In total 1700\n",
      "Execution time:  1288.5805850028992  seconds.\n",
      "Appended 100 rows. In total 1800\n",
      "Execution time:  1364.9717509746552  seconds.\n",
      "Appended 100 rows. In total 1900\n",
      "Execution time:  1440.2369101047516  seconds.\n",
      "Appended 100 rows. In total 2000\n",
      "Execution time:  1516.479863166809  seconds.\n",
      "Appended 100 rows. In total 2100\n",
      "Execution time:  1593.9659552574158  seconds.\n",
      "Appended 100 rows. In total 2200\n",
      "Execution time:  1672.8921880722046  seconds.\n",
      "Appended 100 rows. In total 2300\n",
      "Execution time:  1751.76216006279  seconds.\n",
      "Appended 100 rows. In total 2400\n",
      "Execution time:  1829.9755411148071  seconds.\n",
      "Appended 100 rows. In total 2500\n",
      "Execution time:  1908.5173070430756  seconds.\n",
      "Appended 100 rows. In total 2600\n",
      "Execution time:  1985.9324412345886  seconds.\n",
      "Appended 100 rows. In total 2700\n",
      "Execution time:  2068.8774769306183  seconds.\n",
      "Appended 100 rows. In total 2800\n",
      "Execution time:  2142.7087082862854  seconds.\n",
      "Appended 100 rows. In total 2900\n",
      "Execution time:  2341.8404779434204  seconds.\n",
      "Appended 100 rows. In total 3000\n",
      "Execution time:  2418.574182987213  seconds.\n"
     ]
    }
   ],
   "source": [
    "import requests\n",
    "import multiprocessing\n",
    "import time as time\n",
    "\n",
    "\n",
    "start = time.time()\n",
    "counter = 0\n",
    "sample = rn.sample(recordsDB,3000)\n",
    "listOfDicts=[]\n",
    "for item in sample:\n",
    "    listOfDicts.append(HandlingRequest(item))   \n",
    "    #pool.map(HandlingRequest, sample[i:i+100])\n",
    "    counter+=1\n",
    "    if(counter % 100 == 0):   \n",
    "        print(\"Appended 100 rows. In total {}\".format(counter))\n",
    "        end = time.time()\n",
    "        print(\"Execution time: \", end - start, \" seconds.\")"
   ]
  },
  {
   "cell_type": "code",
   "execution_count": 10,
   "metadata": {},
   "outputs": [
    {
     "data": {
      "text/plain": [
       "3000"
      ]
     },
     "execution_count": 10,
     "metadata": {},
     "output_type": "execute_result"
    }
   ],
   "source": [
    "len(listOfDicts)"
   ]
  },
  {
   "cell_type": "code",
   "execution_count": 21,
   "metadata": {},
   "outputs": [
    {
     "data": {
      "text/plain": [
       "(2861, 15)"
      ]
     },
     "execution_count": 21,
     "metadata": {},
     "output_type": "execute_result"
    }
   ],
   "source": [
    "df_data[df_data['found_by_coordinates_and_name']=='OK'].shape"
   ]
  },
  {
   "cell_type": "code",
   "execution_count": 22,
   "metadata": {},
   "outputs": [],
   "source": [
    "df_data = pd.DataFrame(listOfDicts)"
   ]
  },
  {
   "cell_type": "code",
   "execution_count": 28,
   "metadata": {},
   "outputs": [
    {
     "data": {
      "text/plain": [
       "15"
      ]
     },
     "execution_count": 28,
     "metadata": {},
     "output_type": "execute_result"
    }
   ],
   "source": [
    "len(list(df_data.columns))"
   ]
  },
  {
   "cell_type": "code",
   "execution_count": 29,
   "metadata": {},
   "outputs": [
    {
     "data": {
      "text/html": [
       "<div>\n",
       "<style scoped>\n",
       "    .dataframe tbody tr th:only-of-type {\n",
       "        vertical-align: middle;\n",
       "    }\n",
       "\n",
       "    .dataframe tbody tr th {\n",
       "        vertical-align: top;\n",
       "    }\n",
       "\n",
       "    .dataframe thead th {\n",
       "        text-align: right;\n",
       "    }\n",
       "</style>\n",
       "<table border=\"1\" class=\"dataframe\">\n",
       "  <thead>\n",
       "    <tr style=\"text-align: right;\">\n",
       "      <th></th>\n",
       "      <th>business_id</th>\n",
       "      <th>name</th>\n",
       "      <th>obt_name</th>\n",
       "      <th>address</th>\n",
       "      <th>city</th>\n",
       "      <th>state</th>\n",
       "      <th>formatted_address</th>\n",
       "      <th>latitude</th>\n",
       "      <th>obt_latitude</th>\n",
       "      <th>longitude</th>\n",
       "      <th>obt_longitude</th>\n",
       "      <th>calc_distance</th>\n",
       "      <th>categories</th>\n",
       "      <th>obt_categories</th>\n",
       "      <th>found_by_coordinates_and_name</th>\n",
       "    </tr>\n",
       "  </thead>\n",
       "  <tbody>\n",
       "    <tr>\n",
       "      <th>0</th>\n",
       "      <td>ZvtzjwRaGFfoDJ4gTQhrEw</td>\n",
       "      <td>Black Knight Restaurant &amp; Tavern</td>\n",
       "      <td>Black Knight</td>\n",
       "      <td>858 College Street</td>\n",
       "      <td>Toronto</td>\n",
       "      <td>ON</td>\n",
       "      <td>858 College St, Toronto, ON M6H 1A2, Canada</td>\n",
       "      <td>43.654294</td>\n",
       "      <td>43.654307</td>\n",
       "      <td>-79.423612</td>\n",
       "      <td>-79.423661</td>\n",
       "      <td>4.250673</td>\n",
       "      <td>Dive Bars, Bars, Nightlife, Restaurants, Break...</td>\n",
       "      <td>restaurant, point_of_interest, food, establish...</td>\n",
       "      <td>OK</td>\n",
       "    </tr>\n",
       "    <tr>\n",
       "      <th>1</th>\n",
       "      <td>qt6niPHSiudRw7-dehZMpg</td>\n",
       "      <td>Anthony Vince Nail Spa</td>\n",
       "      <td>Anthony Vince Nail Spa</td>\n",
       "      <td>6401 Morrison Blvd, Ste 3B</td>\n",
       "      <td>Charlotte</td>\n",
       "      <td>NC</td>\n",
       "      <td>6401 Morrison Blvd #3B, Charlotte, NC 28211, USA</td>\n",
       "      <td>35.156215</td>\n",
       "      <td>35.156084</td>\n",
       "      <td>-80.831475</td>\n",
       "      <td>-80.831454</td>\n",
       "      <td>14.703001</td>\n",
       "      <td>Nail Salons, Beauty &amp; Spas, Waxing, Hair Remov...</td>\n",
       "      <td>beauty_salon, hair_care, point_of_interest, es...</td>\n",
       "      <td>OK</td>\n",
       "    </tr>\n",
       "    <tr>\n",
       "      <th>2</th>\n",
       "      <td>edX9ThdTmDRjnONHnu6ztw</td>\n",
       "      <td>AMF Scottsdale Lanes</td>\n",
       "      <td>Bowlmor Scottsdale</td>\n",
       "      <td>7300 E Thomas Rd</td>\n",
       "      <td>Scottsdale</td>\n",
       "      <td>AZ</td>\n",
       "      <td>7300 E Thomas Rd, Scottsdale, AZ 85251, USA</td>\n",
       "      <td>33.480995</td>\n",
       "      <td>33.480822</td>\n",
       "      <td>-111.924736</td>\n",
       "      <td>-111.924711</td>\n",
       "      <td>19.345725</td>\n",
       "      <td>Amusement Parks, Bowling, Active Life, Nightlife</td>\n",
       "      <td>bowling_alley, bar, restaurant, point_of_inter...</td>\n",
       "      <td>OK</td>\n",
       "    </tr>\n",
       "    <tr>\n",
       "      <th>3</th>\n",
       "      <td>jqsj8FQUa2w6G1XN4Gqrpg</td>\n",
       "      <td>Olive Kebab Restaurant</td>\n",
       "      <td>Olive Kebab Restaurant</td>\n",
       "      <td>2836 Lake Shore Boulevard W</td>\n",
       "      <td>Toronto</td>\n",
       "      <td>ON</td>\n",
       "      <td>2836 Lake Shore Blvd W, Etobicoke, ON M8V 1H7,...</td>\n",
       "      <td>43.601685</td>\n",
       "      <td>43.601743</td>\n",
       "      <td>-79.501768</td>\n",
       "      <td>-79.501792</td>\n",
       "      <td>6.681898</td>\n",
       "      <td>Mediterranean, Restaurants, Kebab</td>\n",
       "      <td>restaurant, point_of_interest, food, establish...</td>\n",
       "      <td>OK</td>\n",
       "    </tr>\n",
       "    <tr>\n",
       "      <th>4</th>\n",
       "      <td>O8Ll6NssNw-6_NsPNG01HQ</td>\n",
       "      <td>Renegade Electric</td>\n",
       "      <td>Renegade Electric</td>\n",
       "      <td>2475 W Cheyenne Ave, Ste 150</td>\n",
       "      <td>North Las Vegas</td>\n",
       "      <td>NV</td>\n",
       "      <td>2475 W Cheyenne Ave #150, North Las Vegas, NV ...</td>\n",
       "      <td>36.216348</td>\n",
       "      <td>36.216524</td>\n",
       "      <td>-115.175669</td>\n",
       "      <td>-115.175867</td>\n",
       "      <td>26.436596</td>\n",
       "      <td>Home Services, Electricians</td>\n",
       "      <td>electrician, point_of_interest, establishment</td>\n",
       "      <td>OK</td>\n",
       "    </tr>\n",
       "    <tr>\n",
       "      <th>5</th>\n",
       "      <td>N5F_GgezZEPL-45BxO6FKQ</td>\n",
       "      <td>Walker's Liquor</td>\n",
       "      <td>Walker liquor</td>\n",
       "      <td>11009 N 19th Ave</td>\n",
       "      <td>Phoenix</td>\n",
       "      <td>AZ</td>\n",
       "      <td>11009 N 19th Ave, Phoenix, AZ 85029, USA</td>\n",
       "      <td>33.586053</td>\n",
       "      <td>33.586068</td>\n",
       "      <td>-112.099263</td>\n",
       "      <td>-112.099219</td>\n",
       "      <td>4.444552</td>\n",
       "      <td>Food, Beer, Wine &amp; Spirits</td>\n",
       "      <td>liquor_store, store, point_of_interest, establ...</td>\n",
       "      <td>OK</td>\n",
       "    </tr>\n",
       "    <tr>\n",
       "      <th>6</th>\n",
       "      <td>r3PUyKIjYwz0N1b5DG9BlA</td>\n",
       "      <td>Phoenix Valley Mini Storage</td>\n",
       "      <td>Phoenix Valley Mini Storage</td>\n",
       "      <td>11000 N Cave Creek Rd</td>\n",
       "      <td>Phoenix</td>\n",
       "      <td>AZ</td>\n",
       "      <td>3602 W Greenway Rd, Phoenix, AZ 85053, USA</td>\n",
       "      <td>33.585894</td>\n",
       "      <td>33.625947</td>\n",
       "      <td>-112.049534</td>\n",
       "      <td>-112.136035</td>\n",
       "      <td>9175.368473</td>\n",
       "      <td>Home Decor, Home &amp; Garden, Shopping, Self Stor...</td>\n",
       "      <td>storage, point_of_interest, establishment</td>\n",
       "      <td>OK</td>\n",
       "    </tr>\n",
       "    <tr>\n",
       "      <th>7</th>\n",
       "      <td>Io-S_cPy4ElhHUheHQJwhw</td>\n",
       "      <td>Old's Cool General Store</td>\n",
       "      <td>Old's Cool General Store</td>\n",
       "      <td>250 Westlake Avenue</td>\n",
       "      <td>Toronto</td>\n",
       "      <td>ON</td>\n",
       "      <td>250 Westlake Ave, East York, ON M4C 4T4, Canada</td>\n",
       "      <td>43.694496</td>\n",
       "      <td>43.694496</td>\n",
       "      <td>-79.308436</td>\n",
       "      <td>-79.308436</td>\n",
       "      <td>0.000000</td>\n",
       "      <td>Ice Cream &amp; Frozen Yogurt, Convenience Stores,...</td>\n",
       "      <td>store, point_of_interest, food, establishment</td>\n",
       "      <td>OK</td>\n",
       "    </tr>\n",
       "    <tr>\n",
       "      <th>8</th>\n",
       "      <td>zdM9p4ZOXUb-kdRr8VPGQg</td>\n",
       "      <td>K1 Speed</td>\n",
       "      <td>K1 Speed - Indoor Go Karts, Corporate Event Ve...</td>\n",
       "      <td>2425 South 21st Street</td>\n",
       "      <td>Phoenix</td>\n",
       "      <td>AZ</td>\n",
       "      <td>2425 S 21st St, Phoenix, AZ 85034, USA</td>\n",
       "      <td>33.425464</td>\n",
       "      <td>33.425446</td>\n",
       "      <td>-112.034246</td>\n",
       "      <td>-112.034245</td>\n",
       "      <td>2.008886</td>\n",
       "      <td>Active Life, Venues &amp; Event Spaces, Amusement ...</td>\n",
       "      <td>restaurant, point_of_interest, food, establish...</td>\n",
       "      <td>OK</td>\n",
       "    </tr>\n",
       "    <tr>\n",
       "      <th>9</th>\n",
       "      <td>wOlQRgrLx9WtzLgj4TSTSQ</td>\n",
       "      <td>Eden</td>\n",
       "      <td>Eden Salon</td>\n",
       "      <td>825 S Cooper Rd, Ste B9</td>\n",
       "      <td>Gilbert</td>\n",
       "      <td>AZ</td>\n",
       "      <td>825 S Cooper Rd ste b9, Gilbert, AZ 85233, USA</td>\n",
       "      <td>33.334629</td>\n",
       "      <td>33.335051</td>\n",
       "      <td>-111.804608</td>\n",
       "      <td>-111.804514</td>\n",
       "      <td>47.662840</td>\n",
       "      <td>Beauty &amp; Spas, Hair Salons</td>\n",
       "      <td>beauty_salon, point_of_interest, establishment</td>\n",
       "      <td>OK</td>\n",
       "    </tr>\n",
       "  </tbody>\n",
       "</table>\n",
       "</div>"
      ],
      "text/plain": [
       "              business_id                              name  \\\n",
       "0  ZvtzjwRaGFfoDJ4gTQhrEw  Black Knight Restaurant & Tavern   \n",
       "1  qt6niPHSiudRw7-dehZMpg            Anthony Vince Nail Spa   \n",
       "2  edX9ThdTmDRjnONHnu6ztw              AMF Scottsdale Lanes   \n",
       "3  jqsj8FQUa2w6G1XN4Gqrpg            Olive Kebab Restaurant   \n",
       "4  O8Ll6NssNw-6_NsPNG01HQ                 Renegade Electric   \n",
       "5  N5F_GgezZEPL-45BxO6FKQ                   Walker's Liquor   \n",
       "6  r3PUyKIjYwz0N1b5DG9BlA       Phoenix Valley Mini Storage   \n",
       "7  Io-S_cPy4ElhHUheHQJwhw          Old's Cool General Store   \n",
       "8  zdM9p4ZOXUb-kdRr8VPGQg                          K1 Speed   \n",
       "9  wOlQRgrLx9WtzLgj4TSTSQ                              Eden   \n",
       "\n",
       "                                            obt_name  \\\n",
       "0                                       Black Knight   \n",
       "1                             Anthony Vince Nail Spa   \n",
       "2                                 Bowlmor Scottsdale   \n",
       "3                             Olive Kebab Restaurant   \n",
       "4                                  Renegade Electric   \n",
       "5                                      Walker liquor   \n",
       "6                        Phoenix Valley Mini Storage   \n",
       "7                           Old's Cool General Store   \n",
       "8  K1 Speed - Indoor Go Karts, Corporate Event Ve...   \n",
       "9                                         Eden Salon   \n",
       "\n",
       "                        address             city state  \\\n",
       "0            858 College Street          Toronto    ON   \n",
       "1    6401 Morrison Blvd, Ste 3B        Charlotte    NC   \n",
       "2              7300 E Thomas Rd       Scottsdale    AZ   \n",
       "3   2836 Lake Shore Boulevard W          Toronto    ON   \n",
       "4  2475 W Cheyenne Ave, Ste 150  North Las Vegas    NV   \n",
       "5              11009 N 19th Ave          Phoenix    AZ   \n",
       "6         11000 N Cave Creek Rd          Phoenix    AZ   \n",
       "7           250 Westlake Avenue          Toronto    ON   \n",
       "8        2425 South 21st Street          Phoenix    AZ   \n",
       "9       825 S Cooper Rd, Ste B9          Gilbert    AZ   \n",
       "\n",
       "                                   formatted_address   latitude  obt_latitude  \\\n",
       "0        858 College St, Toronto, ON M6H 1A2, Canada  43.654294     43.654307   \n",
       "1   6401 Morrison Blvd #3B, Charlotte, NC 28211, USA  35.156215     35.156084   \n",
       "2        7300 E Thomas Rd, Scottsdale, AZ 85251, USA  33.480995     33.480822   \n",
       "3  2836 Lake Shore Blvd W, Etobicoke, ON M8V 1H7,...  43.601685     43.601743   \n",
       "4  2475 W Cheyenne Ave #150, North Las Vegas, NV ...  36.216348     36.216524   \n",
       "5           11009 N 19th Ave, Phoenix, AZ 85029, USA  33.586053     33.586068   \n",
       "6         3602 W Greenway Rd, Phoenix, AZ 85053, USA  33.585894     33.625947   \n",
       "7    250 Westlake Ave, East York, ON M4C 4T4, Canada  43.694496     43.694496   \n",
       "8             2425 S 21st St, Phoenix, AZ 85034, USA  33.425464     33.425446   \n",
       "9     825 S Cooper Rd ste b9, Gilbert, AZ 85233, USA  33.334629     33.335051   \n",
       "\n",
       "    longitude  obt_longitude  calc_distance  \\\n",
       "0  -79.423612     -79.423661       4.250673   \n",
       "1  -80.831475     -80.831454      14.703001   \n",
       "2 -111.924736    -111.924711      19.345725   \n",
       "3  -79.501768     -79.501792       6.681898   \n",
       "4 -115.175669    -115.175867      26.436596   \n",
       "5 -112.099263    -112.099219       4.444552   \n",
       "6 -112.049534    -112.136035    9175.368473   \n",
       "7  -79.308436     -79.308436       0.000000   \n",
       "8 -112.034246    -112.034245       2.008886   \n",
       "9 -111.804608    -111.804514      47.662840   \n",
       "\n",
       "                                          categories  \\\n",
       "0  Dive Bars, Bars, Nightlife, Restaurants, Break...   \n",
       "1  Nail Salons, Beauty & Spas, Waxing, Hair Remov...   \n",
       "2   Amusement Parks, Bowling, Active Life, Nightlife   \n",
       "3                  Mediterranean, Restaurants, Kebab   \n",
       "4                        Home Services, Electricians   \n",
       "5                         Food, Beer, Wine & Spirits   \n",
       "6  Home Decor, Home & Garden, Shopping, Self Stor...   \n",
       "7  Ice Cream & Frozen Yogurt, Convenience Stores,...   \n",
       "8  Active Life, Venues & Event Spaces, Amusement ...   \n",
       "9                         Beauty & Spas, Hair Salons   \n",
       "\n",
       "                                      obt_categories  \\\n",
       "0  restaurant, point_of_interest, food, establish...   \n",
       "1  beauty_salon, hair_care, point_of_interest, es...   \n",
       "2  bowling_alley, bar, restaurant, point_of_inter...   \n",
       "3  restaurant, point_of_interest, food, establish...   \n",
       "4      electrician, point_of_interest, establishment   \n",
       "5  liquor_store, store, point_of_interest, establ...   \n",
       "6          storage, point_of_interest, establishment   \n",
       "7      store, point_of_interest, food, establishment   \n",
       "8  restaurant, point_of_interest, food, establish...   \n",
       "9     beauty_salon, point_of_interest, establishment   \n",
       "\n",
       "  found_by_coordinates_and_name  \n",
       "0                            OK  \n",
       "1                            OK  \n",
       "2                            OK  \n",
       "3                            OK  \n",
       "4                            OK  \n",
       "5                            OK  \n",
       "6                            OK  \n",
       "7                            OK  \n",
       "8                            OK  \n",
       "9                            OK  "
      ]
     },
     "execution_count": 29,
     "metadata": {},
     "output_type": "execute_result"
    }
   ],
   "source": [
    "df_data[['business_id',\n",
    "         'name',\n",
    "         'obt_name',\n",
    "         'address',\n",
    "         'city',\n",
    "         'state',\n",
    "         'formatted_address',\n",
    "         'latitude',\n",
    "         'obt_latitude',\n",
    "         'longitude', \n",
    "         'obt_longitude',\n",
    "         'calc_distance',         \n",
    "         'categories',\n",
    "         'obt_categories',\n",
    "         'found_by_coordinates_and_name'\n",
    "           ]].head(10)"
   ]
  },
  {
   "cell_type": "code",
   "execution_count": 32,
   "metadata": {},
   "outputs": [],
   "source": [
    "df_data[['business_id',\n",
    "         'name',\n",
    "         'obt_name',\n",
    "         'address',\n",
    "         'city',\n",
    "         'state',\n",
    "         'formatted_address',\n",
    "         'latitude',\n",
    "         'obt_latitude',\n",
    "         'longitude', \n",
    "         'obt_longitude',\n",
    "         'calc_distance',         \n",
    "         'categories',\n",
    "         'obt_categories',\n",
    "         'found_by_coordinates_and_name'\n",
    "           ]].to_csv(path_or_buf='/Users/kemalm/Desktop/Google Maps Data Matching/sample.csv',index=False)"
   ]
  },
  {
   "cell_type": "code",
   "execution_count": 33,
   "metadata": {},
   "outputs": [],
   "source": [
    "url_placeSearch =\"https://maps.googleapis.com/maps/api/place/findplacefromtext/json?input={}&inputtype=textquery&locationbias=circle:1000@{},{}&key={}&fields=place_id,name,formatted_address,geometry,type\".format(\n",
    "\"Arizona Biltmore Golf Club\",33.5221425,-112.0184807, api_key)\n",
    "response = requests.get(url_placeSearch)\n",
    "response_JSON= response.json()"
   ]
  },
  {
   "cell_type": "markdown",
   "metadata": {},
   "source": [
    "# Identify suspicous patterns"
   ]
  },
  {
   "cell_type": "code",
   "execution_count": 68,
   "metadata": {},
   "outputs": [],
   "source": [
    "import psycopg2\n",
    "import numpy as np\n",
    "import pandas as pd\n",
    "try:\n",
    "    conn=psycopg2.connect(\"dbname='yelpDB' user='postgres' host='localhost' password='P0$tgre$QL'\")\n",
    "except:\n",
    "    print(\"I am unable to connect to the database\")\n",
    "cur = conn.cursor()\n",
    "cur.execute(\"\"\"SELECT state,  COUNT(business_id) AS total_Count\n",
    "               FROM Businesses\n",
    "               GROUP BY state \n",
    "               ORDER BY 2 DESC\"\"\")\n",
    "statesQuery = cur.fetchall()"
   ]
  },
  {
   "cell_type": "code",
   "execution_count": 69,
   "metadata": {},
   "outputs": [],
   "source": [
    "dct_states_prov_terr = {\n",
    "        'AK': 'Alaska',\n",
    "        'AL': 'Alabama',\n",
    "        'AR': 'Arkansas',\n",
    "        'AS': 'American Samoa',\n",
    "        'AZ': 'Arizona',\n",
    "        'CA': 'California',\n",
    "        'CO': 'Colorado',\n",
    "        'CT': 'Connecticut',\n",
    "        'DC': 'District of Columbia',\n",
    "        'DE': 'Delaware',\n",
    "        'FL': 'Florida',\n",
    "        'GA': 'Georgia',\n",
    "        'GU': 'Guam',\n",
    "        'HI': 'Hawaii',\n",
    "        'IA': 'Iowa',\n",
    "        'ID': 'Idaho',\n",
    "        'IL': 'Illinois',\n",
    "        'IN': 'Indiana',\n",
    "        'KS': 'Kansas',\n",
    "        'KY': 'Kentucky',\n",
    "        'LA': 'Louisiana',\n",
    "        'MA': 'Massachusetts',\n",
    "        'MD': 'Maryland',\n",
    "        'ME': 'Maine',\n",
    "        'MI': 'Michigan',\n",
    "        'MN': 'Minnesota',\n",
    "        'MO': 'Missouri',\n",
    "        'MP': 'Northern Mariana Islands',\n",
    "        'MS': 'Mississippi',\n",
    "        'MT': 'Montana',\n",
    "        'NA': 'National',\n",
    "        'NC': 'North Carolina',\n",
    "        'ND': 'North Dakota',\n",
    "        'NE': 'Nebraska',\n",
    "        'NH': 'New Hampshire',\n",
    "        'NJ': 'New Jersey',\n",
    "        'NM': 'New Mexico',\n",
    "        'NV': 'Nevada',\n",
    "        'NY': 'New York',\n",
    "        'OH': 'Ohio',\n",
    "        'OK': 'Oklahoma',\n",
    "        'OR': 'Oregon',\n",
    "        'PA': 'Pennsylvania',\n",
    "        'PR': 'Puerto Rico',\n",
    "        'RI': 'Rhode Island',\n",
    "        'SC': 'South Carolina',\n",
    "        'SD': 'South Dakota',\n",
    "        'TN': 'Tennessee',\n",
    "        'TX': 'Texas',\n",
    "        'UT': 'Utah',\n",
    "        'VA': 'Virginia',\n",
    "        'VI': 'Virgin Islands',\n",
    "        'VT': 'Vermont',\n",
    "        'WA': 'Washington',\n",
    "        'WI': 'Wisconsin',\n",
    "        'WV': 'West Virginia',\n",
    "        'WY': 'Wyoming',\n",
    "        'AB': 'Alberta',\n",
    "        'BC': 'British Columbia',\n",
    "        'MB': 'Manitoba',\n",
    "        'NB': 'New Brunswick',\n",
    "        'NL': 'Newfoundland and Labrador',\n",
    "        'NT': 'Northwest Territories',\n",
    "        'NS': 'Nova Scotia',\n",
    "        'NU': 'Nunavut',\n",
    "        'ON': 'Ontario',\n",
    "        'PE': 'Prince Edward Island',\n",
    "        'QC': 'Quebec',\n",
    "        'SK': 'Saskatchewan',\n",
    "        'YT': 'Yukon'\n",
    "}"
   ]
  },
  {
   "cell_type": "code",
   "execution_count": 70,
   "metadata": {},
   "outputs": [],
   "source": [
    "df_statesQuery = pd.DataFrame(statesQuery, columns=['state','total_count'])"
   ]
  },
  {
   "cell_type": "code",
   "execution_count": 71,
   "metadata": {},
   "outputs": [
    {
     "data": {
      "text/html": [
       "<div>\n",
       "<style scoped>\n",
       "    .dataframe tbody tr th:only-of-type {\n",
       "        vertical-align: middle;\n",
       "    }\n",
       "\n",
       "    .dataframe tbody tr th {\n",
       "        vertical-align: top;\n",
       "    }\n",
       "\n",
       "    .dataframe thead th {\n",
       "        text-align: right;\n",
       "    }\n",
       "</style>\n",
       "<table border=\"1\" class=\"dataframe\">\n",
       "  <thead>\n",
       "    <tr style=\"text-align: right;\">\n",
       "      <th></th>\n",
       "      <th>state</th>\n",
       "      <th>total_count</th>\n",
       "    </tr>\n",
       "  </thead>\n",
       "  <tbody>\n",
       "    <tr>\n",
       "      <th>0</th>\n",
       "      <td>AZ</td>\n",
       "      <td>56686</td>\n",
       "    </tr>\n",
       "    <tr>\n",
       "      <th>1</th>\n",
       "      <td>NV</td>\n",
       "      <td>36312</td>\n",
       "    </tr>\n",
       "    <tr>\n",
       "      <th>2</th>\n",
       "      <td>ON</td>\n",
       "      <td>33412</td>\n",
       "    </tr>\n",
       "    <tr>\n",
       "      <th>3</th>\n",
       "      <td>NC</td>\n",
       "      <td>14720</td>\n",
       "    </tr>\n",
       "    <tr>\n",
       "      <th>4</th>\n",
       "      <td>OH</td>\n",
       "      <td>14697</td>\n",
       "    </tr>\n",
       "  </tbody>\n",
       "</table>\n",
       "</div>"
      ],
      "text/plain": [
       "  state  total_count\n",
       "0    AZ        56686\n",
       "1    NV        36312\n",
       "2    ON        33412\n",
       "3    NC        14720\n",
       "4    OH        14697"
      ]
     },
     "execution_count": 71,
     "metadata": {},
     "output_type": "execute_result"
    }
   ],
   "source": [
    "df_statesQuery.head()"
   ]
  },
  {
   "cell_type": "code",
   "execution_count": 72,
   "metadata": {},
   "outputs": [],
   "source": [
    "df_statesQuery['state_exists'] = df_statesQuery['state'].isin(dct_states_prov_terr.keys())"
   ]
  },
  {
   "cell_type": "code",
   "execution_count": 73,
   "metadata": {},
   "outputs": [],
   "source": [
    "#state_exist = np.array([ (el[0], int(el[0] in dct_states_prov_terr.keys())) for el in df_statesQuery])"
   ]
  },
  {
   "cell_type": "code",
   "execution_count": 74,
   "metadata": {},
   "outputs": [
    {
     "data": {
      "text/html": [
       "<div>\n",
       "<style scoped>\n",
       "    .dataframe tbody tr th:only-of-type {\n",
       "        vertical-align: middle;\n",
       "    }\n",
       "\n",
       "    .dataframe tbody tr th {\n",
       "        vertical-align: top;\n",
       "    }\n",
       "\n",
       "    .dataframe thead th {\n",
       "        text-align: right;\n",
       "    }\n",
       "</style>\n",
       "<table border=\"1\" class=\"dataframe\">\n",
       "  <thead>\n",
       "    <tr style=\"text-align: right;\">\n",
       "      <th></th>\n",
       "      <th>state</th>\n",
       "      <th>total_count</th>\n",
       "      <th>state_exists</th>\n",
       "    </tr>\n",
       "  </thead>\n",
       "  <tbody>\n",
       "    <tr>\n",
       "      <th>14</th>\n",
       "      <td>XGM</td>\n",
       "      <td>4</td>\n",
       "      <td>False</td>\n",
       "    </tr>\n",
       "    <tr>\n",
       "      <th>19</th>\n",
       "      <td>XWY</td>\n",
       "      <td>2</td>\n",
       "      <td>False</td>\n",
       "    </tr>\n",
       "    <tr>\n",
       "      <th>25</th>\n",
       "      <td>DUR</td>\n",
       "      <td>1</td>\n",
       "      <td>False</td>\n",
       "    </tr>\n",
       "    <tr>\n",
       "      <th>27</th>\n",
       "      <td>DOW</td>\n",
       "      <td>1</td>\n",
       "      <td>False</td>\n",
       "    </tr>\n",
       "    <tr>\n",
       "      <th>29</th>\n",
       "      <td>BAS</td>\n",
       "      <td>1</td>\n",
       "      <td>False</td>\n",
       "    </tr>\n",
       "    <tr>\n",
       "      <th>31</th>\n",
       "      <td>CON</td>\n",
       "      <td>1</td>\n",
       "      <td>False</td>\n",
       "    </tr>\n",
       "    <tr>\n",
       "      <th>33</th>\n",
       "      <td>XGL</td>\n",
       "      <td>1</td>\n",
       "      <td>False</td>\n",
       "    </tr>\n",
       "  </tbody>\n",
       "</table>\n",
       "</div>"
      ],
      "text/plain": [
       "   state  total_count  state_exists\n",
       "14   XGM            4         False\n",
       "19   XWY            2         False\n",
       "25   DUR            1         False\n",
       "27   DOW            1         False\n",
       "29   BAS            1         False\n",
       "31   CON            1         False\n",
       "33   XGL            1         False"
      ]
     },
     "execution_count": 74,
     "metadata": {},
     "output_type": "execute_result"
    }
   ],
   "source": [
    "df_statesQuery[df_statesQuery['state_exists'] == False]"
   ]
  },
  {
   "cell_type": "markdown",
   "metadata": {},
   "source": [
    "### Get corresponding records"
   ]
  },
  {
   "cell_type": "code",
   "execution_count": 79,
   "metadata": {},
   "outputs": [],
   "source": [
    "rpl_str = str(list(df_statesQuery[df_statesQuery['state_exists'] == False]['state'].values)).replace('[','').replace(']','')\n",
    "\n",
    "cur.execute(\"\"\"SELECT *\n",
    "         FROM Businesses\n",
    "         WHERE state IN ({})\"\"\".format(rpl_str))\n",
    "all_recs =cur.fetchall()\n"
   ]
  },
  {
   "cell_type": "code",
   "execution_count": 81,
   "metadata": {},
   "outputs": [
    {
     "data": {
      "text/plain": [
       "[('svMJjPd4l_Zb_MoxejYZvw',\n",
       "  'Zoom Printing',\n",
       "  '1136 Center Street, Suite 442',\n",
       "  'Thornhill',\n",
       "  'DUR',\n",
       "  'L4J 3M8',\n",
       "  43.8085625817,\n",
       "  -79.4638055695,\n",
       "  3.5,\n",
       "  3,\n",
       "  1,\n",
       "  {},\n",
       "  'Professional Services, Advertising, Printing Services, Print Media, Mass Media, Local Services',\n",
       "  {'Friday': '9:0-17:0',\n",
       "   'Monday': '9:0-17:0',\n",
       "   'Tuesday': '9:0-17:0',\n",
       "   'Thursday': '9:0-17:0',\n",
       "   'Wednesday': '9:0-17:0'}),\n",
       " ('d4qoXn1Rqt47LLTDA3bAwQ',\n",
       "  'Thayer David Ice Cream Shop',\n",
       "  '8 York St',\n",
       "  'Bath',\n",
       "  'BAS',\n",
       "  'BA1 1NG',\n",
       "  43.6406456,\n",
       "  -79.380939,\n",
       "  4.0,\n",
       "  4,\n",
       "  1,\n",
       "  {'RestaurantsPriceRange2': '1'},\n",
       "  'Food, Ice Cream & Frozen Yogurt',\n",
       "  {}),\n",
       " ('8_GNJU3EPar9VkPzJvoC3w',\n",
       "  'Bean & Brush Family Art Café',\n",
       "  'The Old Sorting Office, 12 Hayfield Street',\n",
       "  'Sale',\n",
       "  'XGM',\n",
       "  'M33 7XW',\n",
       "  42.9960594,\n",
       "  -89.568889,\n",
       "  4.0,\n",
       "  4,\n",
       "  1,\n",
       "  {'WiFi': \"u'free'\",\n",
       "   'Caters': 'True',\n",
       "   'BikeParking': 'True',\n",
       "   'OutdoorSeating': 'True',\n",
       "   'BusinessParking': \"{'garage': False, 'street': False, 'validated': False, 'lot': False, 'valet': False}\",\n",
       "   'RestaurantsAttire': \"'casual'\",\n",
       "   'RestaurantsTakeOut': 'True',\n",
       "   'RestaurantsPriceRange2': '2',\n",
       "   'RestaurantsReservations': 'False',\n",
       "   'RestaurantsGoodForGroups': 'True'},\n",
       "  'Arts & Crafts, Shopping, Coffee & Tea, Food',\n",
       "  {'Friday': '8:30-19:0',\n",
       "   'Monday': '8:30-19:0',\n",
       "   'Sunday': '9:0-18:0',\n",
       "   'Tuesday': '8:30-19:0',\n",
       "   'Saturday': '8:30-19:0',\n",
       "   'Thursday': '8:30-19:0',\n",
       "   'Wednesday': '8:30-19:0'}),\n",
       " ('44xjnQMwAQjgZ80MW5z-Gg',\n",
       "  'No. 37 Sandwich Bar',\n",
       "  '37 Monk Bridge Road',\n",
       "  'Leeds',\n",
       "  'XWY',\n",
       "  'LS6 4EP',\n",
       "  45.456999,\n",
       "  -73.59525,\n",
       "  4.5,\n",
       "  3,\n",
       "  1,\n",
       "  {'WiFi': \"'no'\",\n",
       "   'Alcohol': \"u'none'\",\n",
       "   'OutdoorSeating': 'True',\n",
       "   'BusinessParking': \"{'garage': False, 'validated': False, 'street': False, 'lot': False, 'valet': False}\",\n",
       "   'RestaurantsAttire': \"u'casual'\",\n",
       "   'RestaurantsTakeOut': 'True',\n",
       "   'RestaurantsDelivery': 'True',\n",
       "   'RestaurantsReservations': 'False'},\n",
       "  'Bakeries, Food, Desserts, Restaurants, Sandwiches',\n",
       "  {'Friday': '7:0-15:0',\n",
       "   'Monday': '7:0-15:0',\n",
       "   'Tuesday': '7:0-15:0',\n",
       "   'Thursday': '7:0-15:0',\n",
       "   'Wednesday': '7:0-15:0'}),\n",
       " ('eeEcf7XXAGClqdUCwnwRfg',\n",
       "  'The Old Lifeboat House',\n",
       "  'The Cove, Coverack Helston',\n",
       "  'Church Cove',\n",
       "  'CON',\n",
       "  'TR12 6SX',\n",
       "  35.532021,\n",
       "  -80.8516825,\n",
       "  3.5,\n",
       "  3,\n",
       "  1,\n",
       "  {'RestaurantsTakeOut': 'True',\n",
       "   'RestaurantsDelivery': 'False',\n",
       "   'RestaurantsGoodForGroups': 'True'},\n",
       "  'British, Restaurants',\n",
       "  {}),\n",
       " ('JNZeVq9jr9AWURmnM-Yxig',\n",
       "  'Total Gardening and Landscaping',\n",
       "  '',\n",
       "  'Bury',\n",
       "  'XGM',\n",
       "  'BL8 4DR',\n",
       "  42.9960594,\n",
       "  -89.568889,\n",
       "  5.0,\n",
       "  3,\n",
       "  1,\n",
       "  {'ByAppointmentOnly': 'False', 'BusinessAcceptsBitcoin': 'False'},\n",
       "  'Home Services, Landscaping, Tree Services, Gardeners',\n",
       "  {'Friday': '0:0-0:0',\n",
       "   'Monday': '0:0-0:0',\n",
       "   'Sunday': '0:0-0:0',\n",
       "   'Tuesday': '0:0-0:0',\n",
       "   'Saturday': '0:0-0:0',\n",
       "   'Thursday': '0:0-0:0',\n",
       "   'Wednesday': '0:0-0:0'}),\n",
       " ('6dhkHf-CFHr7C8wj-qopCQ',\n",
       "  'Paper Cutz',\n",
       "  'Gorebrook Works, Pinkbank Lane',\n",
       "  'Manchester',\n",
       "  'XGM',\n",
       "  'M12 5GH',\n",
       "  42.9960594,\n",
       "  -89.568889,\n",
       "  2.5,\n",
       "  3,\n",
       "  1,\n",
       "  {'BusinessParking': \"{'garage': False, 'validated': False, 'street': False, 'lot': False, 'valet': False}\",\n",
       "   'RestaurantsPriceRange2': '4'},\n",
       "  'Art Supplies, Arts & Crafts, Shopping',\n",
       "  {}),\n",
       " ('FByZsT1Sob5Vf1AYJFPxPg',\n",
       "  'Desi Masala',\n",
       "  '61 Queen Street',\n",
       "  'Leeds',\n",
       "  'XWY',\n",
       "  'LS27 8EB',\n",
       "  43.6528212,\n",
       "  -79.3763454,\n",
       "  4.5,\n",
       "  5,\n",
       "  1,\n",
       "  {'WiFi': \"'no'\",\n",
       "   'HasTV': 'True',\n",
       "   'Alcohol': \"'none'\",\n",
       "   'Ambience': \"{'romantic': False, 'intimate': False, 'classy': False, 'hipster': False, 'touristy': False, 'trendy': False, 'upscale': False, 'casual': False}\",\n",
       "   'NoiseLevel': \"u'average'\",\n",
       "   'OutdoorSeating': 'False',\n",
       "   'BusinessParking': \"{'garage': False, 'street': False, 'lot': False, 'valet': False}\",\n",
       "   'RestaurantsAttire': \"u'dressy'\",\n",
       "   'RestaurantsTakeOut': 'True',\n",
       "   'RestaurantsDelivery': 'True',\n",
       "   'RestaurantsPriceRange2': '2',\n",
       "   'RestaurantsReservations': 'True',\n",
       "   'RestaurantsGoodForGroups': 'True'},\n",
       "  'Indian, Pakistani, Restaurants',\n",
       "  {}),\n",
       " ('xjR-PII302WyyNRfpcowDg',\n",
       "  \"Moxon's Fishmongers\",\n",
       "  '110 Islington High Street',\n",
       "  'London',\n",
       "  'XGL',\n",
       "  'N1 8EG',\n",
       "  43.645355,\n",
       "  -79.524467,\n",
       "  4.5,\n",
       "  3,\n",
       "  1,\n",
       "  {'BusinessParking': \"{'garage': False, 'street': True, 'lot': False, 'valet': False}\",\n",
       "   'WheelchairAccessible': 'True',\n",
       "   'BusinessAcceptsBitcoin': 'False',\n",
       "   'RestaurantsPriceRange2': '2'},\n",
       "  'Specialty Food, Food, Seafood Markets',\n",
       "  {'Friday': '9:0-19:30',\n",
       "   'Tuesday': '9:0-19:30',\n",
       "   'Saturday': '9:0-17:30',\n",
       "   'Thursday': '9:0-19:30',\n",
       "   'Wednesday': '9:0-19:30'}),\n",
       " ('ZsL7FUkaWdyQnDoYB6XpSA',\n",
       "  'Happy Gathering Resturant Oldham',\n",
       "  '',\n",
       "  'Oldham',\n",
       "  'XGM',\n",
       "  'OL2 6PX',\n",
       "  42.9960594,\n",
       "  -89.568889,\n",
       "  4.0,\n",
       "  3,\n",
       "  1,\n",
       "  {},\n",
       "  'Chinese, Restaurants',\n",
       "  {}),\n",
       " ('U9uyfhpZ89VEH5_webJ5Xg',\n",
       "  'Storm Cinemas - Belfast',\n",
       "  'Odyssey Arena, 2 Queens Quay',\n",
       "  'Down',\n",
       "  'DOW',\n",
       "  'BT33 0',\n",
       "  43.6416582,\n",
       "  -79.37603,\n",
       "  3.0,\n",
       "  4,\n",
       "  1,\n",
       "  {},\n",
       "  'Arts & Entertainment',\n",
       "  {})]"
      ]
     },
     "execution_count": 81,
     "metadata": {},
     "output_type": "execute_result"
    }
   ],
   "source": [
    "all_recs"
   ]
  },
  {
   "cell_type": "code",
   "execution_count": 86,
   "metadata": {},
   "outputs": [],
   "source": [
    "df_suspBus= pd.DataFrame(all_recs,columns=[\"business_id\",\n",
    "                                \"name\",\n",
    "                                \"address\",\n",
    "                                \"city\",\n",
    "                                \"state\",\n",
    "                                \"postal_code\",\n",
    "                                \"latitude\",\n",
    "                                \"longitude\",\n",
    "                                \"stars\",\n",
    "                                \"review_count\",\n",
    "                                \"is_open\",\n",
    "                                \"attributes\",\n",
    "                                \"categories\",\n",
    "                                \"hours\"])"
   ]
  },
  {
   "cell_type": "code",
   "execution_count": 88,
   "metadata": {},
   "outputs": [
    {
     "data": {
      "text/html": [
       "<div>\n",
       "<style scoped>\n",
       "    .dataframe tbody tr th:only-of-type {\n",
       "        vertical-align: middle;\n",
       "    }\n",
       "\n",
       "    .dataframe tbody tr th {\n",
       "        vertical-align: top;\n",
       "    }\n",
       "\n",
       "    .dataframe thead th {\n",
       "        text-align: right;\n",
       "    }\n",
       "</style>\n",
       "<table border=\"1\" class=\"dataframe\">\n",
       "  <thead>\n",
       "    <tr style=\"text-align: right;\">\n",
       "      <th></th>\n",
       "      <th>business_id</th>\n",
       "      <th>name</th>\n",
       "      <th>address</th>\n",
       "      <th>city</th>\n",
       "      <th>state</th>\n",
       "      <th>postal_code</th>\n",
       "      <th>latitude</th>\n",
       "      <th>longitude</th>\n",
       "      <th>stars</th>\n",
       "      <th>review_count</th>\n",
       "      <th>is_open</th>\n",
       "      <th>attributes</th>\n",
       "      <th>categories</th>\n",
       "      <th>hours</th>\n",
       "    </tr>\n",
       "  </thead>\n",
       "  <tbody>\n",
       "    <tr>\n",
       "      <th>0</th>\n",
       "      <td>svMJjPd4l_Zb_MoxejYZvw</td>\n",
       "      <td>Zoom Printing</td>\n",
       "      <td>1136 Center Street, Suite 442</td>\n",
       "      <td>Thornhill</td>\n",
       "      <td>DUR</td>\n",
       "      <td>L4J 3M8</td>\n",
       "      <td>43.808563</td>\n",
       "      <td>-79.463806</td>\n",
       "      <td>3.5</td>\n",
       "      <td>3</td>\n",
       "      <td>1</td>\n",
       "      <td>{}</td>\n",
       "      <td>Professional Services, Advertising, Printing S...</td>\n",
       "      <td>{'Friday': '9:0-17:0', 'Monday': '9:0-17:0', '...</td>\n",
       "    </tr>\n",
       "    <tr>\n",
       "      <th>1</th>\n",
       "      <td>d4qoXn1Rqt47LLTDA3bAwQ</td>\n",
       "      <td>Thayer David Ice Cream Shop</td>\n",
       "      <td>8 York St</td>\n",
       "      <td>Bath</td>\n",
       "      <td>BAS</td>\n",
       "      <td>BA1 1NG</td>\n",
       "      <td>43.640646</td>\n",
       "      <td>-79.380939</td>\n",
       "      <td>4.0</td>\n",
       "      <td>4</td>\n",
       "      <td>1</td>\n",
       "      <td>{'RestaurantsPriceRange2': '1'}</td>\n",
       "      <td>Food, Ice Cream &amp; Frozen Yogurt</td>\n",
       "      <td>{}</td>\n",
       "    </tr>\n",
       "    <tr>\n",
       "      <th>2</th>\n",
       "      <td>8_GNJU3EPar9VkPzJvoC3w</td>\n",
       "      <td>Bean &amp; Brush Family Art Café</td>\n",
       "      <td>The Old Sorting Office, 12 Hayfield Street</td>\n",
       "      <td>Sale</td>\n",
       "      <td>XGM</td>\n",
       "      <td>M33 7XW</td>\n",
       "      <td>42.996059</td>\n",
       "      <td>-89.568889</td>\n",
       "      <td>4.0</td>\n",
       "      <td>4</td>\n",
       "      <td>1</td>\n",
       "      <td>{'WiFi': 'u'free'', 'Caters': 'True', 'BikePar...</td>\n",
       "      <td>Arts &amp; Crafts, Shopping, Coffee &amp; Tea, Food</td>\n",
       "      <td>{'Friday': '8:30-19:0', 'Monday': '8:30-19:0',...</td>\n",
       "    </tr>\n",
       "    <tr>\n",
       "      <th>3</th>\n",
       "      <td>44xjnQMwAQjgZ80MW5z-Gg</td>\n",
       "      <td>No. 37 Sandwich Bar</td>\n",
       "      <td>37 Monk Bridge Road</td>\n",
       "      <td>Leeds</td>\n",
       "      <td>XWY</td>\n",
       "      <td>LS6 4EP</td>\n",
       "      <td>45.456999</td>\n",
       "      <td>-73.595250</td>\n",
       "      <td>4.5</td>\n",
       "      <td>3</td>\n",
       "      <td>1</td>\n",
       "      <td>{'WiFi': ''no'', 'Alcohol': 'u'none'', 'Outdoo...</td>\n",
       "      <td>Bakeries, Food, Desserts, Restaurants, Sandwiches</td>\n",
       "      <td>{'Friday': '7:0-15:0', 'Monday': '7:0-15:0', '...</td>\n",
       "    </tr>\n",
       "    <tr>\n",
       "      <th>4</th>\n",
       "      <td>eeEcf7XXAGClqdUCwnwRfg</td>\n",
       "      <td>The Old Lifeboat House</td>\n",
       "      <td>The Cove, Coverack Helston</td>\n",
       "      <td>Church Cove</td>\n",
       "      <td>CON</td>\n",
       "      <td>TR12 6SX</td>\n",
       "      <td>35.532021</td>\n",
       "      <td>-80.851682</td>\n",
       "      <td>3.5</td>\n",
       "      <td>3</td>\n",
       "      <td>1</td>\n",
       "      <td>{'RestaurantsTakeOut': 'True', 'RestaurantsDel...</td>\n",
       "      <td>British, Restaurants</td>\n",
       "      <td>{}</td>\n",
       "    </tr>\n",
       "    <tr>\n",
       "      <th>5</th>\n",
       "      <td>JNZeVq9jr9AWURmnM-Yxig</td>\n",
       "      <td>Total Gardening and Landscaping</td>\n",
       "      <td></td>\n",
       "      <td>Bury</td>\n",
       "      <td>XGM</td>\n",
       "      <td>BL8 4DR</td>\n",
       "      <td>42.996059</td>\n",
       "      <td>-89.568889</td>\n",
       "      <td>5.0</td>\n",
       "      <td>3</td>\n",
       "      <td>1</td>\n",
       "      <td>{'ByAppointmentOnly': 'False', 'BusinessAccept...</td>\n",
       "      <td>Home Services, Landscaping, Tree Services, Gar...</td>\n",
       "      <td>{'Friday': '0:0-0:0', 'Monday': '0:0-0:0', 'Su...</td>\n",
       "    </tr>\n",
       "    <tr>\n",
       "      <th>6</th>\n",
       "      <td>6dhkHf-CFHr7C8wj-qopCQ</td>\n",
       "      <td>Paper Cutz</td>\n",
       "      <td>Gorebrook Works, Pinkbank Lane</td>\n",
       "      <td>Manchester</td>\n",
       "      <td>XGM</td>\n",
       "      <td>M12 5GH</td>\n",
       "      <td>42.996059</td>\n",
       "      <td>-89.568889</td>\n",
       "      <td>2.5</td>\n",
       "      <td>3</td>\n",
       "      <td>1</td>\n",
       "      <td>{'BusinessParking': '{'garage': False, 'valida...</td>\n",
       "      <td>Art Supplies, Arts &amp; Crafts, Shopping</td>\n",
       "      <td>{}</td>\n",
       "    </tr>\n",
       "    <tr>\n",
       "      <th>7</th>\n",
       "      <td>FByZsT1Sob5Vf1AYJFPxPg</td>\n",
       "      <td>Desi Masala</td>\n",
       "      <td>61 Queen Street</td>\n",
       "      <td>Leeds</td>\n",
       "      <td>XWY</td>\n",
       "      <td>LS27 8EB</td>\n",
       "      <td>43.652821</td>\n",
       "      <td>-79.376345</td>\n",
       "      <td>4.5</td>\n",
       "      <td>5</td>\n",
       "      <td>1</td>\n",
       "      <td>{'WiFi': ''no'', 'HasTV': 'True', 'Alcohol': '...</td>\n",
       "      <td>Indian, Pakistani, Restaurants</td>\n",
       "      <td>{}</td>\n",
       "    </tr>\n",
       "    <tr>\n",
       "      <th>8</th>\n",
       "      <td>xjR-PII302WyyNRfpcowDg</td>\n",
       "      <td>Moxon's Fishmongers</td>\n",
       "      <td>110 Islington High Street</td>\n",
       "      <td>London</td>\n",
       "      <td>XGL</td>\n",
       "      <td>N1 8EG</td>\n",
       "      <td>43.645355</td>\n",
       "      <td>-79.524467</td>\n",
       "      <td>4.5</td>\n",
       "      <td>3</td>\n",
       "      <td>1</td>\n",
       "      <td>{'BusinessParking': '{'garage': False, 'street...</td>\n",
       "      <td>Specialty Food, Food, Seafood Markets</td>\n",
       "      <td>{'Friday': '9:0-19:30', 'Tuesday': '9:0-19:30'...</td>\n",
       "    </tr>\n",
       "    <tr>\n",
       "      <th>9</th>\n",
       "      <td>ZsL7FUkaWdyQnDoYB6XpSA</td>\n",
       "      <td>Happy Gathering Resturant Oldham</td>\n",
       "      <td></td>\n",
       "      <td>Oldham</td>\n",
       "      <td>XGM</td>\n",
       "      <td>OL2 6PX</td>\n",
       "      <td>42.996059</td>\n",
       "      <td>-89.568889</td>\n",
       "      <td>4.0</td>\n",
       "      <td>3</td>\n",
       "      <td>1</td>\n",
       "      <td>{}</td>\n",
       "      <td>Chinese, Restaurants</td>\n",
       "      <td>{}</td>\n",
       "    </tr>\n",
       "    <tr>\n",
       "      <th>10</th>\n",
       "      <td>U9uyfhpZ89VEH5_webJ5Xg</td>\n",
       "      <td>Storm Cinemas - Belfast</td>\n",
       "      <td>Odyssey Arena, 2 Queens Quay</td>\n",
       "      <td>Down</td>\n",
       "      <td>DOW</td>\n",
       "      <td>BT33 0</td>\n",
       "      <td>43.641658</td>\n",
       "      <td>-79.376030</td>\n",
       "      <td>3.0</td>\n",
       "      <td>4</td>\n",
       "      <td>1</td>\n",
       "      <td>{}</td>\n",
       "      <td>Arts &amp; Entertainment</td>\n",
       "      <td>{}</td>\n",
       "    </tr>\n",
       "  </tbody>\n",
       "</table>\n",
       "</div>"
      ],
      "text/plain": [
       "               business_id                              name  \\\n",
       "0   svMJjPd4l_Zb_MoxejYZvw                     Zoom Printing   \n",
       "1   d4qoXn1Rqt47LLTDA3bAwQ       Thayer David Ice Cream Shop   \n",
       "2   8_GNJU3EPar9VkPzJvoC3w      Bean & Brush Family Art Café   \n",
       "3   44xjnQMwAQjgZ80MW5z-Gg               No. 37 Sandwich Bar   \n",
       "4   eeEcf7XXAGClqdUCwnwRfg            The Old Lifeboat House   \n",
       "5   JNZeVq9jr9AWURmnM-Yxig   Total Gardening and Landscaping   \n",
       "6   6dhkHf-CFHr7C8wj-qopCQ                        Paper Cutz   \n",
       "7   FByZsT1Sob5Vf1AYJFPxPg                       Desi Masala   \n",
       "8   xjR-PII302WyyNRfpcowDg               Moxon's Fishmongers   \n",
       "9   ZsL7FUkaWdyQnDoYB6XpSA  Happy Gathering Resturant Oldham   \n",
       "10  U9uyfhpZ89VEH5_webJ5Xg           Storm Cinemas - Belfast   \n",
       "\n",
       "                                       address         city state postal_code  \\\n",
       "0                1136 Center Street, Suite 442    Thornhill   DUR     L4J 3M8   \n",
       "1                                    8 York St         Bath   BAS     BA1 1NG   \n",
       "2   The Old Sorting Office, 12 Hayfield Street         Sale   XGM     M33 7XW   \n",
       "3                          37 Monk Bridge Road        Leeds   XWY     LS6 4EP   \n",
       "4                   The Cove, Coverack Helston  Church Cove   CON    TR12 6SX   \n",
       "5                                                      Bury   XGM     BL8 4DR   \n",
       "6               Gorebrook Works, Pinkbank Lane   Manchester   XGM     M12 5GH   \n",
       "7                              61 Queen Street        Leeds   XWY    LS27 8EB   \n",
       "8                    110 Islington High Street       London   XGL      N1 8EG   \n",
       "9                                                    Oldham   XGM     OL2 6PX   \n",
       "10                Odyssey Arena, 2 Queens Quay         Down   DOW      BT33 0   \n",
       "\n",
       "     latitude  longitude  stars  review_count  is_open  \\\n",
       "0   43.808563 -79.463806    3.5             3        1   \n",
       "1   43.640646 -79.380939    4.0             4        1   \n",
       "2   42.996059 -89.568889    4.0             4        1   \n",
       "3   45.456999 -73.595250    4.5             3        1   \n",
       "4   35.532021 -80.851682    3.5             3        1   \n",
       "5   42.996059 -89.568889    5.0             3        1   \n",
       "6   42.996059 -89.568889    2.5             3        1   \n",
       "7   43.652821 -79.376345    4.5             5        1   \n",
       "8   43.645355 -79.524467    4.5             3        1   \n",
       "9   42.996059 -89.568889    4.0             3        1   \n",
       "10  43.641658 -79.376030    3.0             4        1   \n",
       "\n",
       "                                           attributes  \\\n",
       "0                                                  {}   \n",
       "1                     {'RestaurantsPriceRange2': '1'}   \n",
       "2   {'WiFi': 'u'free'', 'Caters': 'True', 'BikePar...   \n",
       "3   {'WiFi': ''no'', 'Alcohol': 'u'none'', 'Outdoo...   \n",
       "4   {'RestaurantsTakeOut': 'True', 'RestaurantsDel...   \n",
       "5   {'ByAppointmentOnly': 'False', 'BusinessAccept...   \n",
       "6   {'BusinessParking': '{'garage': False, 'valida...   \n",
       "7   {'WiFi': ''no'', 'HasTV': 'True', 'Alcohol': '...   \n",
       "8   {'BusinessParking': '{'garage': False, 'street...   \n",
       "9                                                  {}   \n",
       "10                                                 {}   \n",
       "\n",
       "                                           categories  \\\n",
       "0   Professional Services, Advertising, Printing S...   \n",
       "1                     Food, Ice Cream & Frozen Yogurt   \n",
       "2         Arts & Crafts, Shopping, Coffee & Tea, Food   \n",
       "3   Bakeries, Food, Desserts, Restaurants, Sandwiches   \n",
       "4                                British, Restaurants   \n",
       "5   Home Services, Landscaping, Tree Services, Gar...   \n",
       "6               Art Supplies, Arts & Crafts, Shopping   \n",
       "7                      Indian, Pakistani, Restaurants   \n",
       "8               Specialty Food, Food, Seafood Markets   \n",
       "9                                Chinese, Restaurants   \n",
       "10                               Arts & Entertainment   \n",
       "\n",
       "                                                hours  \n",
       "0   {'Friday': '9:0-17:0', 'Monday': '9:0-17:0', '...  \n",
       "1                                                  {}  \n",
       "2   {'Friday': '8:30-19:0', 'Monday': '8:30-19:0',...  \n",
       "3   {'Friday': '7:0-15:0', 'Monday': '7:0-15:0', '...  \n",
       "4                                                  {}  \n",
       "5   {'Friday': '0:0-0:0', 'Monday': '0:0-0:0', 'Su...  \n",
       "6                                                  {}  \n",
       "7                                                  {}  \n",
       "8   {'Friday': '9:0-19:30', 'Tuesday': '9:0-19:30'...  \n",
       "9                                                  {}  \n",
       "10                                                 {}  "
      ]
     },
     "execution_count": 88,
     "metadata": {},
     "output_type": "execute_result"
    }
   ],
   "source": [
    "df_suspBus"
   ]
  },
  {
   "cell_type": "code",
   "execution_count": 87,
   "metadata": {},
   "outputs": [],
   "source": [
    "df_suspBus.to_csv(path_or_buf='/Users/kemalm/Desktop/suspBus.csv',index=False)"
   ]
  }
 ],
 "metadata": {
  "kernelspec": {
   "display_name": "Python 3",
   "language": "python",
   "name": "python3"
  },
  "language_info": {
   "codemirror_mode": {
    "name": "ipython",
    "version": 3
   },
   "file_extension": ".py",
   "mimetype": "text/x-python",
   "name": "python",
   "nbconvert_exporter": "python",
   "pygments_lexer": "ipython3",
   "version": "3.7.1"
  }
 },
 "nbformat": 4,
 "nbformat_minor": 2
}
