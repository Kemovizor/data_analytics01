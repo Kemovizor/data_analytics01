{
 "cells": [
  {
   "cell_type": "code",
   "execution_count": 1,
   "metadata": {},
   "outputs": [],
   "source": [
    "import json\n",
    "import pandas as pd\n",
    "import numpy as np\n",
    "import csv\n",
    "import time"
   ]
  },
  {
   "cell_type": "markdown",
   "metadata": {},
   "source": [
    "# converting business.json to business.csv\n",
    "### importing from json file"
   ]
  },
  {
   "cell_type": "code",
   "execution_count": 9,
   "metadata": {},
   "outputs": [
    {
     "name": "stdout",
     "output_type": "stream",
     "text": [
      "Executing the code ...\n",
      "\n",
      "Successfully appended 192609 dictionaries.\n",
      "Execution time:  4.074040174484253  seconds.\n"
     ]
    }
   ],
   "source": [
    "start = time.time()\n",
    "print(\"Executing the code ...\\n\")\n",
    "listOfDicts_business = []\n",
    "counter =0\n",
    "with open('/Users/kemalm/Desktop/yelp_dataset/business.json',encoding='utf-8') as f:\n",
    "    for line in f:\n",
    "        listOfDicts_business.append(json.loads(line))\n",
    "        counter+=1\n",
    "print(\"Successfully appended {} dictionaries.\".format(counter))\n",
    "end = time.time()\n",
    "print(\"Execution time: \", end - start, \" seconds.\")"
   ]
  },
  {
   "cell_type": "markdown",
   "metadata": {},
   "source": [
    "### naming a list of attributes"
   ]
  },
  {
   "cell_type": "code",
   "execution_count": 3,
   "metadata": {},
   "outputs": [
    {
     "name": "stdout",
     "output_type": "stream",
     "text": [
      "['business_id' 'name' 'address' 'city' 'state' 'postal_code' 'latitude'\n",
      " 'longitude' 'stars' 'review_count' 'is_open' 'attributes' 'categories'\n",
      " 'hours'] <class 'numpy.ndarray'>\n"
     ]
    }
   ],
   "source": [
    "attr_arr = np.array(['business_id', 'name', 'address', 'city', 'state', \n",
    "                     'postal_code', 'latitude', 'longitude', 'stars', \n",
    "                     'review_count', 'is_open', 'attributes', 'categories', 'hours'])\n",
    "print(attr_arr, type(attr_arr))"
   ]
  },
  {
   "cell_type": "markdown",
   "metadata": {},
   "source": [
    "### checking if all json objects, we obtained from business.json file, actually contain all keys, that yelp dataset documentation claims they do"
   ]
  },
  {
   "cell_type": "code",
   "execution_count": 6,
   "metadata": {},
   "outputs": [],
   "source": [
    "df_containsfield= np.zeros((len(listOfDicts_business),len(attr_arr)))\n",
    "\n",
    "for i in range(0,len(listOfDicts_business)):\n",
    "    df_containsfield[i,:] = np.isin(attr_arr, np.array(list(listOfDicts_business[i].keys()))).astype(np.int64)"
   ]
  },
  {
   "cell_type": "code",
   "execution_count": 7,
   "metadata": {},
   "outputs": [
    {
     "name": "stdout",
     "output_type": "stream",
     "text": [
      "192609  number of records\n",
      "Key associated with its frequency: \n",
      " [['business_id' 192609.0]\n",
      " ['name' 192609.0]\n",
      " ['address' 192609.0]\n",
      " ['city' 192609.0]\n",
      " ['state' 192609.0]\n",
      " ['postal_code' 192609.0]\n",
      " ['latitude' 192609.0]\n",
      " ['longitude' 192609.0]\n",
      " ['stars' 192609.0]\n",
      " ['review_count' 192609.0]\n",
      " ['is_open' 192609.0]\n",
      " ['attributes' 192609.0]\n",
      " ['categories' 192609.0]\n",
      " ['hours' 192609.0]]\n"
     ]
    }
   ],
   "source": [
    "print(df_containsfield.shape[0], \" number of records\")\n",
    "tkeys_counter = np.zeros((attr_arr.shape[0],2), dtype=np.object)\n",
    "tkeys_counter[:,0] = np.array(attr_arr)\n",
    "tkeys_counter[:,1] = df_containsfield.sum(axis=0)\n",
    "print(\"Key associated with its frequency: \\n\", tkeys_counter)"
   ]
  },
  {
   "cell_type": "markdown",
   "metadata": {},
   "source": [
    "### All json objects have all the keys mentioned in documentation for business.json file"
   ]
  },
  {
   "cell_type": "markdown",
   "metadata": {},
   "source": [
    " ## business_id   ->  checking for null values"
   ]
  },
  {
   "cell_type": "code",
   "execution_count": 12,
   "metadata": {},
   "outputs": [
    {
     "name": "stdout",
     "output_type": "stream",
     "text": [
      "0\n"
     ]
    }
   ],
   "source": [
    "count_null =0\n",
    "for l in listOfDicts_business:\n",
    "    if l['business_id'] is None:\n",
    "        count_null += 1\n",
    "print(count_null)\n",
    "        "
   ]
  },
  {
   "cell_type": "markdown",
   "metadata": {},
   "source": [
    "## business_name -> max length, checking for null values"
   ]
  },
  {
   "cell_type": "code",
   "execution_count": 13,
   "metadata": {},
   "outputs": [
    {
     "name": "stdout",
     "output_type": "stream",
     "text": [
      "Max length of a column value:  64\n",
      "Total number of null values:  0\n"
     ]
    }
   ],
   "source": [
    "max_len, count_null = 0,0\n",
    "for l in listOfDicts_business:\n",
    "    tempstr = l['name']\n",
    "    if tempstr is not None:\n",
    "        if max_len < len(l['name']):\n",
    "                max_len = len(l['name'])\n",
    "    else:\n",
    "        count_null+=1\n",
    "print('Max length of a column value: ',max_len)\n",
    "print('Total number of null values: ',count_null)"
   ]
  },
  {
   "cell_type": "markdown",
   "metadata": {},
   "source": [
    "## address-> max length, checking for null values"
   ]
  },
  {
   "cell_type": "code",
   "execution_count": 14,
   "metadata": {},
   "outputs": [
    {
     "name": "stdout",
     "output_type": "stream",
     "text": [
      "Max length of a column value:  118\n",
      "Total number of null values:  0\n"
     ]
    }
   ],
   "source": [
    "max_len, count_null = 0,0\n",
    "for l in listOfDicts_business:\n",
    "    tempstr = l['address']\n",
    "    if tempstr is not None:\n",
    "        if max_len < len(l['address']):\n",
    "                max_len = len(l['address'])\n",
    "    else:\n",
    "        count_null+=1\n",
    "print('Max length of a column value: ',max_len)\n",
    "print('Total number of null values: ',count_null)"
   ]
  },
  {
   "cell_type": "markdown",
   "metadata": {},
   "source": [
    "## city-> max length, checking for null values"
   ]
  },
  {
   "cell_type": "code",
   "execution_count": 16,
   "metadata": {},
   "outputs": [
    {
     "name": "stdout",
     "output_type": "stream",
     "text": [
      "Max length of a column value:  50\n",
      "Total number of null values:  0\n"
     ]
    }
   ],
   "source": [
    "max_len, count_null = 0,0\n",
    "for l in listOfDicts_business:\n",
    "    tempstr = l['city']\n",
    "    if tempstr is not None:\n",
    "        if max_len < len(l['city']):\n",
    "                max_len = len(l['city'])\n",
    "    else:\n",
    "        count_null+=1\n",
    "print('Max length of a column value: ',max_len)\n",
    "print('Total number of null values: ',count_null)"
   ]
  },
  {
   "cell_type": "markdown",
   "metadata": {},
   "source": [
    "## state-> max length, checking for null values"
   ]
  },
  {
   "cell_type": "code",
   "execution_count": 18,
   "metadata": {},
   "outputs": [
    {
     "name": "stdout",
     "output_type": "stream",
     "text": [
      "Max length of a column value:  3\n",
      "Total number of null values:  0\n"
     ]
    }
   ],
   "source": [
    "max_len, count_null = 0,0\n",
    "for l in listOfDicts_business:\n",
    "    tempstr = l['state']\n",
    "    if tempstr is not None:\n",
    "        if max_len < len(l['state']):\n",
    "                max_len = len(l['state'])\n",
    "    else:\n",
    "        count_null+=1\n",
    "print('Max length of a column value: ',max_len)\n",
    "print('Total number of null values: ',count_null)"
   ]
  },
  {
   "cell_type": "markdown",
   "metadata": {},
   "source": [
    "## postal_code-> max length, checking for null values"
   ]
  },
  {
   "cell_type": "code",
   "execution_count": 8,
   "metadata": {},
   "outputs": [
    {
     "name": "stdout",
     "output_type": "stream",
     "text": [
      "Max length of a column value:  8\n",
      "Total number of null values:  0\n"
     ]
    }
   ],
   "source": [
    "max_len, count_null = 0,0\n",
    "for l in listOfDicts_business:\n",
    "    tempstr = l['postal_code']\n",
    "    if tempstr is not None:\n",
    "        if max_len < len(l['postal_code']):\n",
    "                max_len = len(l['postal_code'])\n",
    "    else:\n",
    "        count_null+=1\n",
    "print('Max length of a column value: ',max_len)\n",
    "print('Total number of null values: ',count_null)"
   ]
  },
  {
   "cell_type": "markdown",
   "metadata": {},
   "source": [
    "## latitude-> checking for null values"
   ]
  },
  {
   "cell_type": "code",
   "execution_count": 20,
   "metadata": {},
   "outputs": [
    {
     "name": "stdout",
     "output_type": "stream",
     "text": [
      "Total number of null values:  0\n"
     ]
    }
   ],
   "source": [
    "max_len, count_null = 0,0\n",
    "for l in listOfDicts_business:\n",
    "    templat = l['latitude']\n",
    "    if templat is None:\n",
    "        count_null+=1\n",
    "print('Total number of null values: ',count_null)"
   ]
  },
  {
   "cell_type": "markdown",
   "metadata": {},
   "source": [
    "## longitude-> checking for null values"
   ]
  },
  {
   "cell_type": "code",
   "execution_count": 21,
   "metadata": {},
   "outputs": [
    {
     "name": "stdout",
     "output_type": "stream",
     "text": [
      "Total number of null values:  0\n"
     ]
    }
   ],
   "source": [
    "max_len, count_null = 0,0\n",
    "for l in listOfDicts_business:\n",
    "    templat = l['longitude']\n",
    "    if templat is None:\n",
    "        count_null+=1\n",
    "print('Total number of null values: ',count_null)"
   ]
  },
  {
   "cell_type": "markdown",
   "metadata": {},
   "source": [
    "## stars-> checking for null values"
   ]
  },
  {
   "cell_type": "code",
   "execution_count": 22,
   "metadata": {},
   "outputs": [
    {
     "name": "stdout",
     "output_type": "stream",
     "text": [
      "Total number of null values:  0\n"
     ]
    }
   ],
   "source": [
    "max_len, count_null = 0,0\n",
    "for l in listOfDicts_business:\n",
    "    templat = l['stars']\n",
    "    if templat is None:\n",
    "        count_null+=1\n",
    "print('Total number of null values: ',count_null)"
   ]
  },
  {
   "cell_type": "markdown",
   "metadata": {},
   "source": [
    "## review_count-> checking for null values"
   ]
  },
  {
   "cell_type": "code",
   "execution_count": 23,
   "metadata": {},
   "outputs": [
    {
     "name": "stdout",
     "output_type": "stream",
     "text": [
      "Total number of null values:  0\n"
     ]
    }
   ],
   "source": [
    "max_len, count_null = 0,0\n",
    "for l in listOfDicts_business:\n",
    "    templat = l['review_count']\n",
    "    if templat is None:\n",
    "        count_null+=1\n",
    "print('Total number of null values: ',count_null)"
   ]
  },
  {
   "cell_type": "markdown",
   "metadata": {},
   "source": [
    "## is_open -> checking for null values"
   ]
  },
  {
   "cell_type": "code",
   "execution_count": 24,
   "metadata": {},
   "outputs": [
    {
     "name": "stdout",
     "output_type": "stream",
     "text": [
      "Total number of null values:  0\n"
     ]
    }
   ],
   "source": [
    "max_len, count_null = 0,0\n",
    "for l in listOfDicts_business:\n",
    "    templat = l['is_open']\n",
    "    if templat is None:\n",
    "        count_null+=1\n",
    "print('Total number of null values: ',count_null)"
   ]
  },
  {
   "cell_type": "markdown",
   "metadata": {},
   "source": [
    "## categories -> checking for null values"
   ]
  },
  {
   "cell_type": "code",
   "execution_count": 25,
   "metadata": {},
   "outputs": [
    {
     "name": "stdout",
     "output_type": "stream",
     "text": [
      "Total number of null values:  482\n"
     ]
    }
   ],
   "source": [
    "max_len, count_null = 0,0\n",
    "for l in listOfDicts_business:\n",
    "    templat = l['categories']\n",
    "    if templat is None:\n",
    "        count_null+=1\n",
    "print('Total number of null values: ',count_null)"
   ]
  },
  {
   "cell_type": "markdown",
   "metadata": {},
   "source": [
    "## attributes -> checking for null values"
   ]
  },
  {
   "cell_type": "code",
   "execution_count": 28,
   "metadata": {},
   "outputs": [
    {
     "name": "stdout",
     "output_type": "stream",
     "text": [
      "Total number of null values:  28836\n"
     ]
    }
   ],
   "source": [
    "max_len, count_null = 0,0\n",
    "for l in listOfDicts_business:\n",
    "    templat = l['attributes']\n",
    "    if templat is None:\n",
    "        count_null+=1\n",
    "print('Total number of null values: ',count_null)"
   ]
  },
  {
   "cell_type": "markdown",
   "metadata": {},
   "source": [
    "## hours -> checking for null values"
   ]
  },
  {
   "cell_type": "code",
   "execution_count": 29,
   "metadata": {},
   "outputs": [
    {
     "name": "stdout",
     "output_type": "stream",
     "text": [
      "Total number of null values:  44830\n"
     ]
    }
   ],
   "source": [
    "max_len, count_null = 0,0\n",
    "for l in listOfDicts_business:\n",
    "    templat = l['hours']\n",
    "    if templat is None:\n",
    "        count_null+=1\n",
    "print('Total number of null values: ',count_null)"
   ]
  },
  {
   "cell_type": "markdown",
   "metadata": {},
   "source": [
    "<h3 style=\"color:red;\">obsolete code (line below)</h3>"
   ]
  },
  {
   "cell_type": "code",
   "execution_count": 5,
   "metadata": {},
   "outputs": [],
   "source": [
    "import ast\n",
    "\n",
    "def SledgehammeringJSONObjects(dictObj, flt_dictObj, prev_key): \n",
    "    for k,v in dictObj.items():\n",
    "        if type(v) == dict:\n",
    "            SledgehammeringJSONObjects(v,flt_dictObj, prev_key+k+'.')\n",
    "        elif type(v) == str:\n",
    "            try:\n",
    "                dict_from_str=ast.literal_eval(v)\n",
    "                SledgehammeringJSONObjects(dict_from_str, flt_dictObj, prev_key+k+'.')\n",
    "            except:\n",
    "                flt_dictObj[prev_key+k]=v\n",
    "        else:\n",
    "            flt_dictObj[prev_key+k]=v\n",
    "    return flt_dictObj\n"
   ]
  },
  {
   "cell_type": "markdown",
   "metadata": {},
   "source": [
    "<h3 style=\"color:blue;\">Creating a business.csv file and writing data to it.</h3>"
   ]
  },
  {
   "cell_type": "code",
   "execution_count": 6,
   "metadata": {},
   "outputs": [],
   "source": [
    "class mydict(dict):\n",
    "        def __str__(self):\n",
    "            return json.dumps(self)"
   ]
  },
  {
   "cell_type": "code",
   "execution_count": 7,
   "metadata": {},
   "outputs": [
    {
     "data": {
      "text/plain": [
       "'{\"GoodForKids\": \"False\"}'"
      ]
     },
     "execution_count": 7,
     "metadata": {},
     "output_type": "execute_result"
    }
   ],
   "source": [
    "json.dumps(listOfDicts_business[0]['attributes'])"
   ]
  },
  {
   "cell_type": "code",
   "execution_count": 15,
   "metadata": {},
   "outputs": [
    {
     "name": "stdout",
     "output_type": "stream",
     "text": [
      "Executing the code ...\n",
      "\n",
      "Successfully written 192609 rows\n",
      "Execution time:  6.614404201507568  seconds.\n"
     ]
    }
   ],
   "source": [
    "start = time.time()\n",
    "print(\"Executing the code ...\\n\")\n",
    "with open('/Users/kemalm/Desktop/yelp_dataset/business.csv','w',encoding='utf-8') as csv_file:\n",
    "    writer = csv.DictWriter(csv_file,list(attr_arr), delimiter='\\t' )\n",
    "    writer.writeheader()\n",
    "    counter=0\n",
    "    for dictObj in listOfDicts_business:\n",
    "        tempDict=dict(dictObj)\n",
    "        \n",
    "        #for key in list(tempDict.keys()):\n",
    "        #    if type(tempDict.get(key))==str:\n",
    "         #       if tempDict[key] == \"\":\n",
    "         #           tempDict[key]=\"[empty]\"\n",
    "        \n",
    "        if tempDict.get('attributes') is not None:\n",
    "            tempDict['attributes'] = mydict(tempDict['attributes']).__str__()\n",
    "        else:\n",
    "            tempDict['attributes']=\"{}\"\n",
    "            \n",
    "        if tempDict.get('hours') is not None:\n",
    "            tempDict['hours'] = mydict(tempDict['hours']).__str__()\n",
    "        else:\n",
    "            tempDict['hours']=\"{}\"\n",
    "        writer.writerow(tempDict)\n",
    "        counter+=1\n",
    "print(\"Successfully written {} rows\".format(counter))\n",
    "end = time.time()\n",
    "print(\"Execution time: \", end - start, \" seconds.\")"
   ]
  },
  {
   "cell_type": "markdown",
   "metadata": {},
   "source": [
    "### Counting null values by column in business.json file  (slow method)"
   ]
  },
  {
   "cell_type": "code",
   "execution_count": 21,
   "metadata": {},
   "outputs": [],
   "source": [
    "arr_null_values_per_column= np.zeros((attr_arr.shape[0],2), dtype=object )"
   ]
  },
  {
   "cell_type": "code",
   "execution_count": 23,
   "metadata": {},
   "outputs": [
    {
     "name": "stdout",
     "output_type": "stream",
     "text": [
      "Executing the code ...\n",
      "\n",
      "[['business_id' 0]\n",
      " ['name' 0]\n",
      " ['address' 0]\n",
      " ['city' 0]\n",
      " ['state' 0]\n",
      " ['postal_code' 0]\n",
      " ['latitude' 0]\n",
      " ['longitude' 0]\n",
      " ['stars' 0]\n",
      " ['review_count' 0]\n",
      " ['is_open' 0]\n",
      " ['attributes' 28836]\n",
      " ['categories' 482]\n",
      " ['hours' 44831]]\n",
      "Execution time:  38.63809585571289  seconds.\n"
     ]
    }
   ],
   "source": [
    "start = time.time()\n",
    "print(\"Executing the code ...\\n\")\n",
    "arr_null_values_per_column[:,0]= np.array(attr_arr)\n",
    "for dictObj in listOfDicts_business:\n",
    "    arr_null_values_per_column[:,1] += (pd.Series(dictObj).values == None).astype(np.int64)    \n",
    "end = time.time()\n",
    "print(arr_null_values_per_column)\n",
    "print(\"Execution time: \", end - start, \" seconds.\")"
   ]
  },
  {
   "cell_type": "markdown",
   "metadata": {},
   "source": [
    "# user.json\n"
   ]
  },
  {
   "cell_type": "code",
   "execution_count": 2,
   "metadata": {},
   "outputs": [],
   "source": [
    "listOfDicts_user = []\n",
    "with open('/Users/kemalm/Desktop/yelp_dataset/user.json',encoding='utf-8') as f:\n",
    "    for line in f:\n",
    "        listOfDicts_user.append(json.loads(line))"
   ]
  },
  {
   "cell_type": "code",
   "execution_count": 3,
   "metadata": {},
   "outputs": [
    {
     "data": {
      "text/plain": [
       "{'user_id': 'l6BmjZMeQD3rDxWUbiAiow',\n",
       " 'name': 'Rashmi',\n",
       " 'review_count': 95,\n",
       " 'yelping_since': '2013-10-08 23:11:33',\n",
       " 'useful': 84,\n",
       " 'funny': 17,\n",
       " 'cool': 25,\n",
       " 'elite': '2015,2016,2017',\n",
       " 'friends': 'c78V-rj8NQcQjOI8KP3UEA, alRMgPcngYSCJ5naFRBz5g, ajcnq75Z5xxkvUSmmJ1bCg, BSMAmp2-wMzCkhTfq9ToNg, jka10dk9ygX76hJG0gfPZQ, dut0e4xvme7QSlesOycHQA, l4l5lBnK356zBua7B-UJ6Q, 0HicMOOs-M_gl2eO-zES4Q, _uI57wL2fLyftrcSFpfSGQ, T4_Qd0YWbC3co6WSMw4vxg, iBRoLWPtWmsI1kdbE9ORSA, xjrUcid6Ymq0DoTJELkYyw, GqadWVzJ6At-vgLzK_SKgA, DvB13VJBmSnbFXBVBsKmDA, vRP9nQkYTeNioDjtxZlVhg, gT0A1iN3eeQ8EMAjJhwQtw, 6yCWjFPtp_AD4x93WAwmnw, 1dKzpNnib-JlViKv8_Gt5g, 3Bv4_JxHXq-gVLOxYMQX0Q, ikQyfu1iViYh8T0us7wiFQ, f1GGltNaB7K5DR1jf3dOmg, tgeFUChlh7v8bZFVl2-hjQ, -9-9oyXlqsMG2he5xIWdLQ, Adj9fBPVJad8vSs-mIP7gw, Ce49RY8CKXVsTifxRYFTsw, M1_7TLi8CbdA89nFLlH4iw, wFsNv-hqbW_F5-IRqfBN6g, 0Q1L7zXHocaUZ2gsG2XJeg, cBFgmOCBdhYa0xoFEAzp_g, VrD_AgiFvzqtlR15vir3SQ, cpE-7HK514Sr5vpSen9CEQ, F1UYelhPFB-zIKlt0ygIZg, CQAL1hvsLMCzuJf9AglsXw, 1KnY1wr15WfEWIRLB9IS6g, QWFQ-kXBiLbid-lm5Jr3dQ, nymT8liFugCrM16lTy0ZfQ, qj69bdd885heDvUPCyHd2Q, DySCZZcgbdrlHgEovk5y9w, lZMJIDuvhT9Dy4KyquLXyA, b_9Gn7wS93AoPZPR0dIJqQ, N07g1IaLh0_6sUjtiSRe4w, YdfPX_7DxSnKvvdCJ57iOw, 8GYryZPD22W7WgQ8kvMkEQ, cpQmAgOWatghp14h1pn1dQ, EnchhymLYMqftCRjqvVWmw, -JdfKhFktE7Zs9BMDFcPeQ, uWhC9eof98zPkvsalgaqJw, eyTlNDDaiPatfe6mheIZ0g, VfHq0o73aKsODvfAhwAQtg, kvD5tICngLAaQDujSFWupA, dXacwEhqi9-3_XT6JeH0Og, NfU0zDaTMEQ4-X9dbQWd9A, cTHWBdjSKbctSUIvWsgFxw, 3IEtCbSDF5t7RkZ20T6s9A, HJJXTrp6UybYyPdQ9DA0JA, JaXogQFVjzGRAeBvzamBHg, NUonfKkjS1iVqnNITtgXZg, D5vaJAYp0sOrGfsj9qvsMA, H27Ecbwwu4FGAlLgICourw, S8HrLmMiE4u8FWYWkNEoTw, Io36Y3xWQcIX9rYvPcYfXQ, J5mcqh8KxYpqjaLBNlwcig, -nTB3_08g06fD0GT8AtDBQ, wMpFA46lihK8oFns_5p65A, RZGFJHeomGJCWp3xcL3ejA, ZoQSzzXoSP1RxOD4Amv9Bg, qzM0EB0SkuuGIFv0adjQAQ, HuM6vvuveken-fPZ7d4olA, H3oukHpGpn9n_mJwSDSQyQ, PkmsJsQ8FIZe8eh8c_u96g, wSByVbwME4MzgkJaFyfvNg, YEVqknoDmrHAoUbHX0nPnA, li3vsK1XAPmeJYAUTYflHQ, MKc8yXi0glbPYt0Qb4PECw, fQPH6W9fksi27gkuUPnFaA, amrCMrDsoRetYFg2kwwdFA, 84dVQ6n6r2ezNaTuc7RkKA, yW9QjWY0olv5-uRKv3t_Kw, 5XJDj7c3eoidfQ3jW18Zgw, txSc6a6pIDctvwyBeu7Aqg, HFbbDCyyqP9xPkUlcxeIdg, hTUv5oh2do6Z3OppPuuiJA, gSqonG9J4fNM-fl_fE71AA, pd9mgTFpBTg5F9x-MsczNg, j3VE22V2GcHiH8UZxfFLfw, NYXlMW-T-3V4Jqr4r-i0Wg, btxgAZedxX8IWhMifA7Xkg, -Hp5mPLiRJNFnyeX5Ygzag, P6-DwVg6-t2JuQwIUEk0iQ, OI2TvxYvZrAodBG_RF53Xw, bHxf_VPKmZur1Bier-6A2A, Et_Sb39cVm81_Xe9HDM8ZQ, 5HwGl2UyYbaRq8aD6YC-fA, ZK228WMcCKLo5thcjD7rdw, iTf8wojwfm0NOi7dOiz3Nw, btYRxQYNJjpecflNHtFH0A, Kgo42FzpW_dXFgDKoewbtg, MNk_1Q_dqOY3xxHZKeO8VQ, AlwD504T9k0m5lkg3k5g6Q',\n",
       " 'fans': 5,\n",
       " 'average_stars': 4.03,\n",
       " 'compliment_hot': 2,\n",
       " 'compliment_more': 0,\n",
       " 'compliment_profile': 0,\n",
       " 'compliment_cute': 0,\n",
       " 'compliment_list': 0,\n",
       " 'compliment_note': 1,\n",
       " 'compliment_plain': 1,\n",
       " 'compliment_cool': 1,\n",
       " 'compliment_funny': 1,\n",
       " 'compliment_writer': 2,\n",
       " 'compliment_photos': 0}"
      ]
     },
     "execution_count": 3,
     "metadata": {},
     "output_type": "execute_result"
    }
   ],
   "source": [
    "listOfDicts_user[0]"
   ]
  },
  {
   "cell_type": "code",
   "execution_count": 3,
   "metadata": {},
   "outputs": [
    {
     "data": {
      "text/plain": [
       "1637138"
      ]
     },
     "execution_count": 3,
     "metadata": {},
     "output_type": "execute_result"
    }
   ],
   "source": [
    "len(listOfDicts_user)"
   ]
  },
  {
   "cell_type": "code",
   "execution_count": 5,
   "metadata": {
    "scrolled": true
   },
   "outputs": [
    {
     "name": "stdout",
     "output_type": "stream",
     "text": [
      "['user_id', 'name', 'review_count', 'yelping_since', 'useful', 'funny', 'cool', 'elite', 'friends', 'fans', 'average_stars', 'compliment_hot', 'compliment_more', 'compliment_profile', 'compliment_cute', 'compliment_list', 'compliment_note', 'compliment_plain', 'compliment_cool', 'compliment_funny', 'compliment_writer', 'compliment_photos']\n",
      "22\n"
     ]
    }
   ],
   "source": [
    "user_cols = list(listOfDicts_user[0].keys())\n",
    "print(user_cols)\n",
    "print(len(user_cols_cols))"
   ]
  },
  {
   "cell_type": "code",
   "execution_count": 24,
   "metadata": {},
   "outputs": [
    {
     "name": "stdout",
     "output_type": "stream",
     "text": [
      "Executing the code ...\n",
      "\n",
      "Successfully written 1637138 rows\n",
      "Execution time:  75.70107102394104\n"
     ]
    }
   ],
   "source": [
    "start = time.time()\n",
    "print(\"Executing the code ...\\n\")\n",
    "with open('/Users/kemalm/Desktop/yelp_dataset/user.csv','w',encoding='utf-8') as csv_file:\n",
    "    writer = csv.DictWriter(csv_file,user_cols, delimiter='\\t' )\n",
    "    writer.writeheader()\n",
    "    counter=0\n",
    "    for dictObj in listOfDicts_user:\n",
    "        writer.writerow(dictObj)\n",
    "        counter+=1\n",
    "print(\"Successfully written {} rows\".format(counter))\n",
    "end = time.time()\n",
    "print(\"Execution time: \", end - start, \" seconds.\")\n",
    "\n",
    "\n",
    "\n"
   ]
  },
  {
   "cell_type": "code",
   "execution_count": 47,
   "metadata": {},
   "outputs": [
    {
     "name": "stdout",
     "output_type": "stream",
     "text": [
      " 1637138 yelp_dataset/user.json\n",
      "User.csv has one more row used as a header.\n",
      " 1637139 yelp_dataset/user.csv\n"
     ]
    }
   ],
   "source": [
    "!wc -l yelp_dataset/user.json\n",
    "!echo \"User.csv has one more row used as a header.\"\n",
    "!wc -l yelp_dataset/user.csv\n"
   ]
  },
  {
   "cell_type": "code",
   "execution_count": 30,
   "metadata": {},
   "outputs": [
    {
     "name": "stdout",
     "output_type": "stream",
     "text": [
      "user_id\tname\treview_count\tyelping_since\tuseful\tfunny\tcool\telite\tfriends\tfans\taverage_stars\tcompliment_hot\tcompliment_more\tcompliment_profile\tcompliment_cute\tcompliment_list\tcompliment_note\tcompliment_plain\tcompliment_cool\tcompliment_funny\tcompliment_writer\tcompliment_photos\n",
      "^C\n"
     ]
    }
   ],
   "source": [
    "!awk 'NR==1' /Users/kemalm/Desktop/yelp_dataset/user.csv "
   ]
  },
  {
   "cell_type": "markdown",
   "metadata": {},
   "source": [
    "# review.json"
   ]
  },
  {
   "cell_type": "code",
   "execution_count": 2,
   "metadata": {},
   "outputs": [
    {
     "name": "stdout",
     "output_type": "stream",
     "text": [
      "Executing the code ...\n",
      "\n",
      "Successfully appended 6685900 dictionaries.\n",
      "Execution time:  71.67073893547058  seconds.\n"
     ]
    }
   ],
   "source": [
    "start = time.time()\n",
    "print(\"Executing the code ...\\n\")\n",
    "listOfDicts_review = []\n",
    "with open('/Users/kemalm/Desktop/yelp_dataset/review.json',encoding='utf-8') as f:\n",
    "    counter=0\n",
    "    for line in f:\n",
    "        listOfDicts_review.append(json.loads(line))\n",
    "        counter+=1\n",
    "print(\"Successfully appended {} dictionaries.\".format(counter))\n",
    "end = time.time()\n",
    "print(\"Execution time: \", end - start, \" seconds.\")"
   ]
  },
  {
   "cell_type": "code",
   "execution_count": 7,
   "metadata": {},
   "outputs": [
    {
     "name": "stdout",
     "output_type": "stream",
     "text": [
      " 6685900 yelp_dataset/review.json\n",
      " 21719148 yelp_dataset/review.csv\n"
     ]
    }
   ],
   "source": [
    "!wc -l yelp_dataset/review.json\n",
    "!wc -l yelp_dataset/review.csv"
   ]
  },
  {
   "cell_type": "code",
   "execution_count": 7,
   "metadata": {},
   "outputs": [
    {
     "data": {
      "text/plain": [
       "6685900"
      ]
     },
     "execution_count": 7,
     "metadata": {},
     "output_type": "execute_result"
    }
   ],
   "source": [
    "len(listOfDicts_review)"
   ]
  },
  {
   "cell_type": "markdown",
   "metadata": {},
   "source": [
    "### Check if there are 'null' values in review.json"
   ]
  },
  {
   "cell_type": "code",
   "execution_count": 7,
   "metadata": {},
   "outputs": [
    {
     "name": "stdout",
     "output_type": "stream",
     "text": [
      "Executing the code ...\n",
      "\n",
      "Execution time:  98.51081776618958  seconds.\n"
     ]
    }
   ],
   "source": [
    "start = time.time()\n",
    "print(\"Executing the code ...\\n\")\n",
    "!grep -e \":null\" yelp_dataset/review.json | head -1\n",
    "end = time.time()\n",
    "print(\"Execution time: \", end - start, \" seconds.\")"
   ]
  },
  {
   "cell_type": "code",
   "execution_count": 3,
   "metadata": {},
   "outputs": [
    {
     "name": "stdout",
     "output_type": "stream",
     "text": [
      "['review_id', 'user_id', 'business_id', 'stars', 'useful', 'funny', 'cool', 'text', 'date']\n"
     ]
    }
   ],
   "source": [
    "review_cols = list(listOfDicts_review[0].keys())\n",
    "print(review_cols)"
   ]
  },
  {
   "cell_type": "code",
   "execution_count": 4,
   "metadata": {},
   "outputs": [
    {
     "name": "stdout",
     "output_type": "stream",
     "text": [
      "Executing the code ...\n",
      "\n",
      "Successfully written 6685900 rows\n",
      "Execution time:  232.80819010734558  seconds.\n"
     ]
    }
   ],
   "source": [
    "start = time.time()\n",
    "print(\"Executing the code ...\\n\")\n",
    "with open('/Users/kemalm/Desktop/yelp_dataset/review.csv','w',encoding='utf-8') as csv_file:\n",
    "    writer = csv.DictWriter(csv_file,review_cols, delimiter='\\t' )\n",
    "    writer.writeheader()\n",
    "    counter=0\n",
    "    for dictObj in listOfDicts_review:\n",
    "        writer.writerow(dictObj)\n",
    "        counter+=1\n",
    "print(\"Successfully written {} rows\".format(counter))\n",
    "end = time.time()\n",
    "print(\"Execution time: \", end - start, \" seconds.\")\n",
    "\n"
   ]
  },
  {
   "cell_type": "code",
   "execution_count": 6,
   "metadata": {},
   "outputs": [
    {
     "name": "stdout",
     "output_type": "stream",
     "text": [
      " 6685900 747800947 5347475638 yelp_dataset/review.json\n",
      " 21719148 806231022 4715279449 yelp_dataset/review.csv\n"
     ]
    }
   ],
   "source": [
    "!wc  yelp_dataset/review.json\n",
    "!wc  yelp_dataset/review.csv"
   ]
  },
  {
   "cell_type": "markdown",
   "metadata": {},
   "source": [
    "# checkin.json"
   ]
  },
  {
   "cell_type": "code",
   "execution_count": 2,
   "metadata": {},
   "outputs": [
    {
     "name": "stdout",
     "output_type": "stream",
     "text": [
      "Executing the code ...\n",
      "\n",
      "Successfully appended 161950 dictionaries.\n",
      "Execution time:  1.7891209125518799  seconds.\n"
     ]
    }
   ],
   "source": [
    "start = time.time()\n",
    "print(\"Executing the code ...\\n\")\n",
    "listOfDicts_checkin = []\n",
    "with open('/Users/kemalm/Desktop/yelp_dataset/checkin.json',encoding='utf-8') as f:\n",
    "    counter=0\n",
    "    for line in f:\n",
    "        listOfDicts_checkin.append(json.loads(line))\n",
    "        counter+=1\n",
    "print(\"Successfully appended {} dictionaries.\".format(counter))\n",
    "end = time.time()\n",
    "print(\"Execution time: \", end - start, \" seconds.\")"
   ]
  },
  {
   "cell_type": "code",
   "execution_count": 3,
   "metadata": {},
   "outputs": [
    {
     "name": "stdout",
     "output_type": "stream",
     "text": [
      "  161950 yelp_dataset/checkin.json\r\n"
     ]
    }
   ],
   "source": [
    "!wc -l yelp_dataset/checkin.json"
   ]
  },
  {
   "cell_type": "code",
   "execution_count": 4,
   "metadata": {},
   "outputs": [
    {
     "name": "stdout",
     "output_type": "stream",
     "text": [
      "Executing the code ...\n",
      "\n",
      "Execution time:  7.25925612449646  seconds.\n"
     ]
    }
   ],
   "source": [
    "start = time.time()\n",
    "print(\"Executing the code ...\\n\")\n",
    "!grep -e \":null\" yelp_dataset/checkin.json | head -1\n",
    "end = time.time()\n",
    "print(\"Execution time: \", end - start, \" seconds.\")"
   ]
  },
  {
   "cell_type": "code",
   "execution_count": 5,
   "metadata": {},
   "outputs": [
    {
     "name": "stdout",
     "output_type": "stream",
     "text": [
      "['business_id', 'date']\n"
     ]
    }
   ],
   "source": [
    "checkin_cols = list(listOfDicts_checkin[0].keys())\n",
    "print(checkin_cols)"
   ]
  },
  {
   "cell_type": "code",
   "execution_count": 6,
   "metadata": {},
   "outputs": [
    {
     "name": "stdout",
     "output_type": "stream",
     "text": [
      "Executing the code ...\n",
      "\n",
      "Successfully written 161950 rows\n",
      "Execution time:  9.046382665634155  seconds.\n"
     ]
    }
   ],
   "source": [
    "start = time.time()\n",
    "print(\"Executing the code ...\\n\")\n",
    "with open('/Users/kemalm/Desktop/yelp_dataset/checkin.csv','w',encoding='utf-8') as csv_file:\n",
    "    writer = csv.DictWriter(csv_file,checkin_cols, delimiter='\\t' )\n",
    "    writer.writeheader()\n",
    "    counter=0\n",
    "    for dictObj in listOfDicts_checkin:\n",
    "        writer.writerow(dictObj)\n",
    "        counter+=1\n",
    "print(\"Successfully written {} rows\".format(counter))\n",
    "end = time.time()\n",
    "print(\"Execution time: \", end - start, \" seconds.\")"
   ]
  },
  {
   "cell_type": "code",
   "execution_count": 8,
   "metadata": {},
   "outputs": [
    {
     "name": "stdout",
     "output_type": "stream",
     "text": [
      "  161950 yelp_dataset/checkin.json\n",
      "  161951 yelp_dataset/checkin.csv\n"
     ]
    }
   ],
   "source": [
    "!wc -l yelp_dataset/checkin.json\n",
    "!wc -l yelp_dataset/checkin.csv\n"
   ]
  },
  {
   "cell_type": "markdown",
   "metadata": {},
   "source": [
    "# tip.json"
   ]
  },
  {
   "cell_type": "code",
   "execution_count": 2,
   "metadata": {},
   "outputs": [
    {
     "name": "stdout",
     "output_type": "stream",
     "text": [
      " 1223094 yelp_dataset/tip.json\r\n"
     ]
    }
   ],
   "source": [
    "!wc -l yelp_dataset/tip.json"
   ]
  },
  {
   "cell_type": "code",
   "execution_count": 3,
   "metadata": {},
   "outputs": [
    {
     "name": "stdout",
     "output_type": "stream",
     "text": [
      "Executing the code ...\n",
      "\n",
      "Successfully appended 1223094 dictionaries.\n",
      "Execution time:  6.281081199645996  seconds.\n"
     ]
    }
   ],
   "source": [
    "start = time.time()\n",
    "print(\"Executing the code ...\\n\")\n",
    "listOfDicts_tip = []\n",
    "with open('/Users/kemalm/Desktop/yelp_dataset/tip.json',encoding='utf-8') as f:\n",
    "    counter=0\n",
    "    for line in f:\n",
    "        listOfDicts_tip.append(json.loads(line))\n",
    "        counter+=1\n",
    "print(\"Successfully appended {} dictionaries.\".format(counter))\n",
    "end = time.time()\n",
    "print(\"Execution time: \", end - start, \" seconds.\")"
   ]
  },
  {
   "cell_type": "code",
   "execution_count": 4,
   "metadata": {},
   "outputs": [
    {
     "name": "stdout",
     "output_type": "stream",
     "text": [
      "Executing the code ...\n",
      "\n",
      "Execution time:  4.816248893737793  seconds.\n"
     ]
    }
   ],
   "source": [
    "start = time.time()\n",
    "print(\"Executing the code ...\\n\")\n",
    "!grep -e \":null\" yelp_dataset/tip.json | head -1\n",
    "end = time.time()\n",
    "print(\"Execution time: \", end - start, \" seconds.\")"
   ]
  },
  {
   "cell_type": "code",
   "execution_count": 5,
   "metadata": {},
   "outputs": [
    {
     "name": "stdout",
     "output_type": "stream",
     "text": [
      "['user_id', 'business_id', 'text', 'date', 'compliment_count']\n"
     ]
    }
   ],
   "source": [
    "tip_cols = list(listOfDicts_tip[0].keys())\n",
    "print(tip_cols)"
   ]
  },
  {
   "cell_type": "code",
   "execution_count": 16,
   "metadata": {},
   "outputs": [
    {
     "name": "stdout",
     "output_type": "stream",
     "text": [
      "Executing the code ...\n",
      "\n",
      "Successfully written 1223094 rows\n",
      "Execution time:  8.033058166503906  seconds.\n"
     ]
    }
   ],
   "source": [
    "start = time.time()\n",
    "print(\"Executing the code ...\\n\")\n",
    "with open('/Users/kemalm/Desktop/yelp_dataset/tip.csv','w',encoding='utf-8') as csv_file:\n",
    "    writer = csv.DictWriter(csv_file,tip_cols, delimiter='\\t' )\n",
    "    writer.writeheader()\n",
    "    counter=0\n",
    "    for dictObj in listOfDicts_tip:\n",
    "        writer.writerow(dictObj)\n",
    "        counter+=1\n",
    "print(\"Successfully written {} rows\".format(counter))\n",
    "end = time.time()\n",
    "print(\"Execution time: \", end - start, \" seconds.\")"
   ]
  },
  {
   "cell_type": "code",
   "execution_count": 17,
   "metadata": {},
   "outputs": [
    {
     "name": "stdout",
     "output_type": "stream",
     "text": [
      " 1223094 yelp_dataset/tip.json\n",
      " 1272320 yelp_dataset/tip.csv\n"
     ]
    }
   ],
   "source": [
    "!wc -l yelp_dataset/tip.json\n",
    "!wc -l yelp_dataset/tip.csv"
   ]
  },
  {
   "cell_type": "markdown",
   "metadata": {},
   "source": [
    "# photo.json"
   ]
  },
  {
   "cell_type": "code",
   "execution_count": 2,
   "metadata": {},
   "outputs": [
    {
     "name": "stdout",
     "output_type": "stream",
     "text": [
      "Executing the code ...\n",
      "\n",
      "Successfully appended 200000 dictionaries.\n",
      "Execution time:  0.9310169219970703  seconds.\n"
     ]
    }
   ],
   "source": [
    "start = time.time()\n",
    "print(\"Executing the code ...\\n\")\n",
    "listOfDicts_photo = []\n",
    "with open('/Users/kemalm/Desktop/yelp_dataset/photo.json',encoding='utf-8') as f:\n",
    "    counter=0\n",
    "    for line in f:\n",
    "        listOfDicts_photo.append(json.loads(line))\n",
    "        counter+=1\n",
    "print(\"Successfully appended {} dictionaries.\".format(counter))\n",
    "end = time.time()\n",
    "print(\"Execution time: \", end - start, \" seconds.\")"
   ]
  },
  {
   "cell_type": "code",
   "execution_count": 3,
   "metadata": {},
   "outputs": [
    {
     "name": "stdout",
     "output_type": "stream",
     "text": [
      "['caption', 'photo_id', 'business_id', 'label']\n"
     ]
    }
   ],
   "source": [
    "photo_cols = list(listOfDicts_photo[0].keys())\n",
    "print(photo_cols)"
   ]
  },
  {
   "cell_type": "code",
   "execution_count": 4,
   "metadata": {},
   "outputs": [
    {
     "name": "stdout",
     "output_type": "stream",
     "text": [
      "Executing the code ...\n",
      "\n",
      "Execution time:  0.6177051067352295  seconds.\n"
     ]
    }
   ],
   "source": [
    "start = time.time()\n",
    "print(\"Executing the code ...\\n\")\n",
    "!grep -e \":null\" yelp_dataset/photo.json | head -1\n",
    "end = time.time()\n",
    "print(\"Execution time: \", end - start, \" seconds.\")"
   ]
  },
  {
   "cell_type": "code",
   "execution_count": 5,
   "metadata": {},
   "outputs": [
    {
     "name": "stdout",
     "output_type": "stream",
     "text": [
      "Executing the code ...\n",
      "\n",
      "Successfully written 200000 rows\n",
      "Execution time:  0.9482808113098145  seconds.\n"
     ]
    }
   ],
   "source": [
    "start = time.time()\n",
    "print(\"Executing the code ...\\n\")\n",
    "with open('/Users/kemalm/Desktop/yelp_dataset/photo.csv','w',encoding='utf-8') as csv_file:\n",
    "    writer = csv.DictWriter(csv_file,photo_cols, delimiter='\\t' )\n",
    "    writer.writeheader()\n",
    "    counter=0\n",
    "    for dictObj in listOfDicts_photo:\n",
    "        writer.writerow(dictObj)\n",
    "        counter+=1\n",
    "print(\"Successfully written {} rows\".format(counter))\n",
    "end = time.time()\n",
    "print(\"Execution time: \", end - start, \" seconds.\")"
   ]
  },
  {
   "cell_type": "code",
   "execution_count": 6,
   "metadata": {},
   "outputs": [
    {
     "name": "stdout",
     "output_type": "stream",
     "text": [
      "  200000 yelp_dataset/photo.json\n",
      "  200197 yelp_dataset/photo.csv\n"
     ]
    }
   ],
   "source": [
    "!wc -l yelp_dataset/photo.json\n",
    "!wc -l yelp_dataset/photo.csv"
   ]
  },
  {
   "cell_type": "code",
   "execution_count": 10,
   "metadata": {},
   "outputs": [],
   "source": [
    "!head -1000 yelp_dataset/photo.csv > yelp_dataset/temp.csv"
   ]
  },
  {
   "cell_type": "code",
   "execution_count": null,
   "metadata": {},
   "outputs": [],
   "source": []
  }
 ],
 "metadata": {
  "kernelspec": {
   "display_name": "Python 3",
   "language": "python",
   "name": "python3"
  },
  "language_info": {
   "codemirror_mode": {
    "name": "ipython",
    "version": 3
   },
   "file_extension": ".py",
   "mimetype": "text/x-python",
   "name": "python",
   "nbconvert_exporter": "python",
   "pygments_lexer": "ipython3",
   "version": "3.7.1"
  }
 },
 "nbformat": 4,
 "nbformat_minor": 2
}
